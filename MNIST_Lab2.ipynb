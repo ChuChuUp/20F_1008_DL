{
  "nbformat": 4,
  "nbformat_minor": 0,
  "metadata": {
    "kernelspec": {
      "display_name": "Python 3",
      "language": "python",
      "name": "python3"
    },
    "language_info": {
      "codemirror_mode": {
        "name": "ipython",
        "version": 3
      },
      "file_extension": ".py",
      "mimetype": "text/x-python",
      "name": "python",
      "nbconvert_exporter": "python",
      "pygments_lexer": "ipython3",
      "version": "3.7.3"
    },
    "colab": {
      "name": "MNIST Lab2.ipynb",
      "provenance": [],
      "collapsed_sections": [],
      "include_colab_link": true
    },
    "accelerator": "GPU",
    "widgets": {
      "application/vnd.jupyter.widget-state+json": {
        "fb81f94ce22c4276bf78ad6f88b48bfb": {
          "model_module": "@jupyter-widgets/controls",
          "model_name": "HBoxModel",
          "state": {
            "_view_name": "HBoxView",
            "_dom_classes": [],
            "_model_name": "HBoxModel",
            "_view_module": "@jupyter-widgets/controls",
            "_model_module_version": "1.5.0",
            "_view_count": null,
            "_view_module_version": "1.5.0",
            "box_style": "",
            "layout": "IPY_MODEL_11c843e2313843d6816536ac8d43b32b",
            "_model_module": "@jupyter-widgets/controls",
            "children": [
              "IPY_MODEL_0c129c69ed8e4e6e880821e0473ee620",
              "IPY_MODEL_3df339a9d9ec47f98917c939ff37e919"
            ]
          }
        },
        "11c843e2313843d6816536ac8d43b32b": {
          "model_module": "@jupyter-widgets/base",
          "model_name": "LayoutModel",
          "state": {
            "_view_name": "LayoutView",
            "grid_template_rows": null,
            "right": null,
            "justify_content": null,
            "_view_module": "@jupyter-widgets/base",
            "overflow": null,
            "_model_module_version": "1.2.0",
            "_view_count": null,
            "flex_flow": null,
            "width": null,
            "min_width": null,
            "border": null,
            "align_items": null,
            "bottom": null,
            "_model_module": "@jupyter-widgets/base",
            "top": null,
            "grid_column": null,
            "overflow_y": null,
            "overflow_x": null,
            "grid_auto_flow": null,
            "grid_area": null,
            "grid_template_columns": null,
            "flex": null,
            "_model_name": "LayoutModel",
            "justify_items": null,
            "grid_row": null,
            "max_height": null,
            "align_content": null,
            "visibility": null,
            "align_self": null,
            "height": null,
            "min_height": null,
            "padding": null,
            "grid_auto_rows": null,
            "grid_gap": null,
            "max_width": null,
            "order": null,
            "_view_module_version": "1.2.0",
            "grid_template_areas": null,
            "object_position": null,
            "object_fit": null,
            "grid_auto_columns": null,
            "margin": null,
            "display": null,
            "left": null
          }
        },
        "0c129c69ed8e4e6e880821e0473ee620": {
          "model_module": "@jupyter-widgets/controls",
          "model_name": "FloatProgressModel",
          "state": {
            "_view_name": "ProgressView",
            "style": "IPY_MODEL_0295a5644d334abe8a4c7a30e7068ed6",
            "_dom_classes": [],
            "description": "100%",
            "_model_name": "FloatProgressModel",
            "bar_style": "success",
            "max": 300,
            "_view_module": "@jupyter-widgets/controls",
            "_model_module_version": "1.5.0",
            "value": 300,
            "_view_count": null,
            "_view_module_version": "1.5.0",
            "orientation": "horizontal",
            "min": 0,
            "description_tooltip": null,
            "_model_module": "@jupyter-widgets/controls",
            "layout": "IPY_MODEL_0e5710264b614171ba100617c2cedf56"
          }
        },
        "3df339a9d9ec47f98917c939ff37e919": {
          "model_module": "@jupyter-widgets/controls",
          "model_name": "HTMLModel",
          "state": {
            "_view_name": "HTMLView",
            "style": "IPY_MODEL_2bfd1377360244b1b86c5cd0d9e70f4b",
            "_dom_classes": [],
            "description": "",
            "_model_name": "HTMLModel",
            "placeholder": "​",
            "_view_module": "@jupyter-widgets/controls",
            "_model_module_version": "1.5.0",
            "value": " 300/300 [03:03&lt;00:00,  1.64it/s]",
            "_view_count": null,
            "_view_module_version": "1.5.0",
            "description_tooltip": null,
            "_model_module": "@jupyter-widgets/controls",
            "layout": "IPY_MODEL_d3c241e3f8fa4a03863b456db3a7c34e"
          }
        },
        "0295a5644d334abe8a4c7a30e7068ed6": {
          "model_module": "@jupyter-widgets/controls",
          "model_name": "ProgressStyleModel",
          "state": {
            "_view_name": "StyleView",
            "_model_name": "ProgressStyleModel",
            "description_width": "initial",
            "_view_module": "@jupyter-widgets/base",
            "_model_module_version": "1.5.0",
            "_view_count": null,
            "_view_module_version": "1.2.0",
            "bar_color": null,
            "_model_module": "@jupyter-widgets/controls"
          }
        },
        "0e5710264b614171ba100617c2cedf56": {
          "model_module": "@jupyter-widgets/base",
          "model_name": "LayoutModel",
          "state": {
            "_view_name": "LayoutView",
            "grid_template_rows": null,
            "right": null,
            "justify_content": null,
            "_view_module": "@jupyter-widgets/base",
            "overflow": null,
            "_model_module_version": "1.2.0",
            "_view_count": null,
            "flex_flow": null,
            "width": null,
            "min_width": null,
            "border": null,
            "align_items": null,
            "bottom": null,
            "_model_module": "@jupyter-widgets/base",
            "top": null,
            "grid_column": null,
            "overflow_y": null,
            "overflow_x": null,
            "grid_auto_flow": null,
            "grid_area": null,
            "grid_template_columns": null,
            "flex": null,
            "_model_name": "LayoutModel",
            "justify_items": null,
            "grid_row": null,
            "max_height": null,
            "align_content": null,
            "visibility": null,
            "align_self": null,
            "height": null,
            "min_height": null,
            "padding": null,
            "grid_auto_rows": null,
            "grid_gap": null,
            "max_width": null,
            "order": null,
            "_view_module_version": "1.2.0",
            "grid_template_areas": null,
            "object_position": null,
            "object_fit": null,
            "grid_auto_columns": null,
            "margin": null,
            "display": null,
            "left": null
          }
        },
        "2bfd1377360244b1b86c5cd0d9e70f4b": {
          "model_module": "@jupyter-widgets/controls",
          "model_name": "DescriptionStyleModel",
          "state": {
            "_view_name": "StyleView",
            "_model_name": "DescriptionStyleModel",
            "description_width": "",
            "_view_module": "@jupyter-widgets/base",
            "_model_module_version": "1.5.0",
            "_view_count": null,
            "_view_module_version": "1.2.0",
            "_model_module": "@jupyter-widgets/controls"
          }
        },
        "d3c241e3f8fa4a03863b456db3a7c34e": {
          "model_module": "@jupyter-widgets/base",
          "model_name": "LayoutModel",
          "state": {
            "_view_name": "LayoutView",
            "grid_template_rows": null,
            "right": null,
            "justify_content": null,
            "_view_module": "@jupyter-widgets/base",
            "overflow": null,
            "_model_module_version": "1.2.0",
            "_view_count": null,
            "flex_flow": null,
            "width": null,
            "min_width": null,
            "border": null,
            "align_items": null,
            "bottom": null,
            "_model_module": "@jupyter-widgets/base",
            "top": null,
            "grid_column": null,
            "overflow_y": null,
            "overflow_x": null,
            "grid_auto_flow": null,
            "grid_area": null,
            "grid_template_columns": null,
            "flex": null,
            "_model_name": "LayoutModel",
            "justify_items": null,
            "grid_row": null,
            "max_height": null,
            "align_content": null,
            "visibility": null,
            "align_self": null,
            "height": null,
            "min_height": null,
            "padding": null,
            "grid_auto_rows": null,
            "grid_gap": null,
            "max_width": null,
            "order": null,
            "_view_module_version": "1.2.0",
            "grid_template_areas": null,
            "object_position": null,
            "object_fit": null,
            "grid_auto_columns": null,
            "margin": null,
            "display": null,
            "left": null
          }
        },
        "6cada2b63c9740b4bbd012988e60b8f2": {
          "model_module": "@jupyter-widgets/controls",
          "model_name": "HBoxModel",
          "state": {
            "_view_name": "HBoxView",
            "_dom_classes": [],
            "_model_name": "HBoxModel",
            "_view_module": "@jupyter-widgets/controls",
            "_model_module_version": "1.5.0",
            "_view_count": null,
            "_view_module_version": "1.5.0",
            "box_style": "",
            "layout": "IPY_MODEL_cbc0aa8aa7a54f5baea220a838bd489c",
            "_model_module": "@jupyter-widgets/controls",
            "children": [
              "IPY_MODEL_e3e1f2677b524e8aad76ee49118d27c3",
              "IPY_MODEL_18a443b0a0e84b0a9be7ec9b3fc75352"
            ]
          }
        },
        "cbc0aa8aa7a54f5baea220a838bd489c": {
          "model_module": "@jupyter-widgets/base",
          "model_name": "LayoutModel",
          "state": {
            "_view_name": "LayoutView",
            "grid_template_rows": null,
            "right": null,
            "justify_content": null,
            "_view_module": "@jupyter-widgets/base",
            "overflow": null,
            "_model_module_version": "1.2.0",
            "_view_count": null,
            "flex_flow": null,
            "width": null,
            "min_width": null,
            "border": null,
            "align_items": null,
            "bottom": null,
            "_model_module": "@jupyter-widgets/base",
            "top": null,
            "grid_column": null,
            "overflow_y": null,
            "overflow_x": null,
            "grid_auto_flow": null,
            "grid_area": null,
            "grid_template_columns": null,
            "flex": null,
            "_model_name": "LayoutModel",
            "justify_items": null,
            "grid_row": null,
            "max_height": null,
            "align_content": null,
            "visibility": null,
            "align_self": null,
            "height": null,
            "min_height": null,
            "padding": null,
            "grid_auto_rows": null,
            "grid_gap": null,
            "max_width": null,
            "order": null,
            "_view_module_version": "1.2.0",
            "grid_template_areas": null,
            "object_position": null,
            "object_fit": null,
            "grid_auto_columns": null,
            "margin": null,
            "display": null,
            "left": null
          }
        },
        "e3e1f2677b524e8aad76ee49118d27c3": {
          "model_module": "@jupyter-widgets/controls",
          "model_name": "FloatProgressModel",
          "state": {
            "_view_name": "ProgressView",
            "style": "IPY_MODEL_d50902a5ae654646b0e364499b9d4b20",
            "_dom_classes": [],
            "description": "100%",
            "_model_name": "FloatProgressModel",
            "bar_style": "success",
            "max": 200,
            "_view_module": "@jupyter-widgets/controls",
            "_model_module_version": "1.5.0",
            "value": 200,
            "_view_count": null,
            "_view_module_version": "1.5.0",
            "orientation": "horizontal",
            "min": 0,
            "description_tooltip": null,
            "_model_module": "@jupyter-widgets/controls",
            "layout": "IPY_MODEL_9af65b1e08454169882d62bffac5fdde"
          }
        },
        "18a443b0a0e84b0a9be7ec9b3fc75352": {
          "model_module": "@jupyter-widgets/controls",
          "model_name": "HTMLModel",
          "state": {
            "_view_name": "HTMLView",
            "style": "IPY_MODEL_d478f21add3a4912978d2b36407f6a45",
            "_dom_classes": [],
            "description": "",
            "_model_name": "HTMLModel",
            "placeholder": "​",
            "_view_module": "@jupyter-widgets/controls",
            "_model_module_version": "1.5.0",
            "value": " 200/200 [01:52&lt;00:00,  1.78it/s]",
            "_view_count": null,
            "_view_module_version": "1.5.0",
            "description_tooltip": null,
            "_model_module": "@jupyter-widgets/controls",
            "layout": "IPY_MODEL_66da0f5b58ae4cdbbdaf1277340a13c4"
          }
        },
        "d50902a5ae654646b0e364499b9d4b20": {
          "model_module": "@jupyter-widgets/controls",
          "model_name": "ProgressStyleModel",
          "state": {
            "_view_name": "StyleView",
            "_model_name": "ProgressStyleModel",
            "description_width": "initial",
            "_view_module": "@jupyter-widgets/base",
            "_model_module_version": "1.5.0",
            "_view_count": null,
            "_view_module_version": "1.2.0",
            "bar_color": null,
            "_model_module": "@jupyter-widgets/controls"
          }
        },
        "9af65b1e08454169882d62bffac5fdde": {
          "model_module": "@jupyter-widgets/base",
          "model_name": "LayoutModel",
          "state": {
            "_view_name": "LayoutView",
            "grid_template_rows": null,
            "right": null,
            "justify_content": null,
            "_view_module": "@jupyter-widgets/base",
            "overflow": null,
            "_model_module_version": "1.2.0",
            "_view_count": null,
            "flex_flow": null,
            "width": null,
            "min_width": null,
            "border": null,
            "align_items": null,
            "bottom": null,
            "_model_module": "@jupyter-widgets/base",
            "top": null,
            "grid_column": null,
            "overflow_y": null,
            "overflow_x": null,
            "grid_auto_flow": null,
            "grid_area": null,
            "grid_template_columns": null,
            "flex": null,
            "_model_name": "LayoutModel",
            "justify_items": null,
            "grid_row": null,
            "max_height": null,
            "align_content": null,
            "visibility": null,
            "align_self": null,
            "height": null,
            "min_height": null,
            "padding": null,
            "grid_auto_rows": null,
            "grid_gap": null,
            "max_width": null,
            "order": null,
            "_view_module_version": "1.2.0",
            "grid_template_areas": null,
            "object_position": null,
            "object_fit": null,
            "grid_auto_columns": null,
            "margin": null,
            "display": null,
            "left": null
          }
        },
        "d478f21add3a4912978d2b36407f6a45": {
          "model_module": "@jupyter-widgets/controls",
          "model_name": "DescriptionStyleModel",
          "state": {
            "_view_name": "StyleView",
            "_model_name": "DescriptionStyleModel",
            "description_width": "",
            "_view_module": "@jupyter-widgets/base",
            "_model_module_version": "1.5.0",
            "_view_count": null,
            "_view_module_version": "1.2.0",
            "_model_module": "@jupyter-widgets/controls"
          }
        },
        "66da0f5b58ae4cdbbdaf1277340a13c4": {
          "model_module": "@jupyter-widgets/base",
          "model_name": "LayoutModel",
          "state": {
            "_view_name": "LayoutView",
            "grid_template_rows": null,
            "right": null,
            "justify_content": null,
            "_view_module": "@jupyter-widgets/base",
            "overflow": null,
            "_model_module_version": "1.2.0",
            "_view_count": null,
            "flex_flow": null,
            "width": null,
            "min_width": null,
            "border": null,
            "align_items": null,
            "bottom": null,
            "_model_module": "@jupyter-widgets/base",
            "top": null,
            "grid_column": null,
            "overflow_y": null,
            "overflow_x": null,
            "grid_auto_flow": null,
            "grid_area": null,
            "grid_template_columns": null,
            "flex": null,
            "_model_name": "LayoutModel",
            "justify_items": null,
            "grid_row": null,
            "max_height": null,
            "align_content": null,
            "visibility": null,
            "align_self": null,
            "height": null,
            "min_height": null,
            "padding": null,
            "grid_auto_rows": null,
            "grid_gap": null,
            "max_width": null,
            "order": null,
            "_view_module_version": "1.2.0",
            "grid_template_areas": null,
            "object_position": null,
            "object_fit": null,
            "grid_auto_columns": null,
            "margin": null,
            "display": null,
            "left": null
          }
        },
        "502a367977364708ad73721e46c7886d": {
          "model_module": "@jupyter-widgets/controls",
          "model_name": "HBoxModel",
          "state": {
            "_view_name": "HBoxView",
            "_dom_classes": [],
            "_model_name": "HBoxModel",
            "_view_module": "@jupyter-widgets/controls",
            "_model_module_version": "1.5.0",
            "_view_count": null,
            "_view_module_version": "1.5.0",
            "box_style": "",
            "layout": "IPY_MODEL_93322895515d4ad08ba2123b66589f05",
            "_model_module": "@jupyter-widgets/controls",
            "children": [
              "IPY_MODEL_9dd4d1b7dc3048b5a2e886fa9ae103c9",
              "IPY_MODEL_f706945d3b3343c6b6542b38873cae54"
            ]
          }
        },
        "93322895515d4ad08ba2123b66589f05": {
          "model_module": "@jupyter-widgets/base",
          "model_name": "LayoutModel",
          "state": {
            "_view_name": "LayoutView",
            "grid_template_rows": null,
            "right": null,
            "justify_content": null,
            "_view_module": "@jupyter-widgets/base",
            "overflow": null,
            "_model_module_version": "1.2.0",
            "_view_count": null,
            "flex_flow": null,
            "width": null,
            "min_width": null,
            "border": null,
            "align_items": null,
            "bottom": null,
            "_model_module": "@jupyter-widgets/base",
            "top": null,
            "grid_column": null,
            "overflow_y": null,
            "overflow_x": null,
            "grid_auto_flow": null,
            "grid_area": null,
            "grid_template_columns": null,
            "flex": null,
            "_model_name": "LayoutModel",
            "justify_items": null,
            "grid_row": null,
            "max_height": null,
            "align_content": null,
            "visibility": null,
            "align_self": null,
            "height": null,
            "min_height": null,
            "padding": null,
            "grid_auto_rows": null,
            "grid_gap": null,
            "max_width": null,
            "order": null,
            "_view_module_version": "1.2.0",
            "grid_template_areas": null,
            "object_position": null,
            "object_fit": null,
            "grid_auto_columns": null,
            "margin": null,
            "display": null,
            "left": null
          }
        },
        "9dd4d1b7dc3048b5a2e886fa9ae103c9": {
          "model_module": "@jupyter-widgets/controls",
          "model_name": "FloatProgressModel",
          "state": {
            "_view_name": "ProgressView",
            "style": "IPY_MODEL_b498f0b5da584950a1378b53e9a51a46",
            "_dom_classes": [],
            "description": "100%",
            "_model_name": "FloatProgressModel",
            "bar_style": "success",
            "max": 200,
            "_view_module": "@jupyter-widgets/controls",
            "_model_module_version": "1.5.0",
            "value": 200,
            "_view_count": null,
            "_view_module_version": "1.5.0",
            "orientation": "horizontal",
            "min": 0,
            "description_tooltip": null,
            "_model_module": "@jupyter-widgets/controls",
            "layout": "IPY_MODEL_d5278c9e4563432b92a768f611620b4e"
          }
        },
        "f706945d3b3343c6b6542b38873cae54": {
          "model_module": "@jupyter-widgets/controls",
          "model_name": "HTMLModel",
          "state": {
            "_view_name": "HTMLView",
            "style": "IPY_MODEL_c2ad1705e92442d087ed9bb5ba3a6985",
            "_dom_classes": [],
            "description": "",
            "_model_name": "HTMLModel",
            "placeholder": "​",
            "_view_module": "@jupyter-widgets/controls",
            "_model_module_version": "1.5.0",
            "value": " 200/200 [05:19&lt;00:00,  1.60s/it]",
            "_view_count": null,
            "_view_module_version": "1.5.0",
            "description_tooltip": null,
            "_model_module": "@jupyter-widgets/controls",
            "layout": "IPY_MODEL_d0d3ad0ca2b744f0b2fd851231f3cb27"
          }
        },
        "b498f0b5da584950a1378b53e9a51a46": {
          "model_module": "@jupyter-widgets/controls",
          "model_name": "ProgressStyleModel",
          "state": {
            "_view_name": "StyleView",
            "_model_name": "ProgressStyleModel",
            "description_width": "initial",
            "_view_module": "@jupyter-widgets/base",
            "_model_module_version": "1.5.0",
            "_view_count": null,
            "_view_module_version": "1.2.0",
            "bar_color": null,
            "_model_module": "@jupyter-widgets/controls"
          }
        },
        "d5278c9e4563432b92a768f611620b4e": {
          "model_module": "@jupyter-widgets/base",
          "model_name": "LayoutModel",
          "state": {
            "_view_name": "LayoutView",
            "grid_template_rows": null,
            "right": null,
            "justify_content": null,
            "_view_module": "@jupyter-widgets/base",
            "overflow": null,
            "_model_module_version": "1.2.0",
            "_view_count": null,
            "flex_flow": null,
            "width": null,
            "min_width": null,
            "border": null,
            "align_items": null,
            "bottom": null,
            "_model_module": "@jupyter-widgets/base",
            "top": null,
            "grid_column": null,
            "overflow_y": null,
            "overflow_x": null,
            "grid_auto_flow": null,
            "grid_area": null,
            "grid_template_columns": null,
            "flex": null,
            "_model_name": "LayoutModel",
            "justify_items": null,
            "grid_row": null,
            "max_height": null,
            "align_content": null,
            "visibility": null,
            "align_self": null,
            "height": null,
            "min_height": null,
            "padding": null,
            "grid_auto_rows": null,
            "grid_gap": null,
            "max_width": null,
            "order": null,
            "_view_module_version": "1.2.0",
            "grid_template_areas": null,
            "object_position": null,
            "object_fit": null,
            "grid_auto_columns": null,
            "margin": null,
            "display": null,
            "left": null
          }
        },
        "c2ad1705e92442d087ed9bb5ba3a6985": {
          "model_module": "@jupyter-widgets/controls",
          "model_name": "DescriptionStyleModel",
          "state": {
            "_view_name": "StyleView",
            "_model_name": "DescriptionStyleModel",
            "description_width": "",
            "_view_module": "@jupyter-widgets/base",
            "_model_module_version": "1.5.0",
            "_view_count": null,
            "_view_module_version": "1.2.0",
            "_model_module": "@jupyter-widgets/controls"
          }
        },
        "d0d3ad0ca2b744f0b2fd851231f3cb27": {
          "model_module": "@jupyter-widgets/base",
          "model_name": "LayoutModel",
          "state": {
            "_view_name": "LayoutView",
            "grid_template_rows": null,
            "right": null,
            "justify_content": null,
            "_view_module": "@jupyter-widgets/base",
            "overflow": null,
            "_model_module_version": "1.2.0",
            "_view_count": null,
            "flex_flow": null,
            "width": null,
            "min_width": null,
            "border": null,
            "align_items": null,
            "bottom": null,
            "_model_module": "@jupyter-widgets/base",
            "top": null,
            "grid_column": null,
            "overflow_y": null,
            "overflow_x": null,
            "grid_auto_flow": null,
            "grid_area": null,
            "grid_template_columns": null,
            "flex": null,
            "_model_name": "LayoutModel",
            "justify_items": null,
            "grid_row": null,
            "max_height": null,
            "align_content": null,
            "visibility": null,
            "align_self": null,
            "height": null,
            "min_height": null,
            "padding": null,
            "grid_auto_rows": null,
            "grid_gap": null,
            "max_width": null,
            "order": null,
            "_view_module_version": "1.2.0",
            "grid_template_areas": null,
            "object_position": null,
            "object_fit": null,
            "grid_auto_columns": null,
            "margin": null,
            "display": null,
            "left": null
          }
        },
        "d5bb03d356e5455e81cfe78920a804ab": {
          "model_module": "@jupyter-widgets/controls",
          "model_name": "HBoxModel",
          "state": {
            "_view_name": "HBoxView",
            "_dom_classes": [],
            "_model_name": "HBoxModel",
            "_view_module": "@jupyter-widgets/controls",
            "_model_module_version": "1.5.0",
            "_view_count": null,
            "_view_module_version": "1.5.0",
            "box_style": "",
            "layout": "IPY_MODEL_e4988e8c868e43f6aeb59efa768b5347",
            "_model_module": "@jupyter-widgets/controls",
            "children": [
              "IPY_MODEL_6ac3df84ebf84030a986f70500e72dd0",
              "IPY_MODEL_269a1af2314946e2afdedaf2b65c3898"
            ]
          }
        },
        "e4988e8c868e43f6aeb59efa768b5347": {
          "model_module": "@jupyter-widgets/base",
          "model_name": "LayoutModel",
          "state": {
            "_view_name": "LayoutView",
            "grid_template_rows": null,
            "right": null,
            "justify_content": null,
            "_view_module": "@jupyter-widgets/base",
            "overflow": null,
            "_model_module_version": "1.2.0",
            "_view_count": null,
            "flex_flow": null,
            "width": null,
            "min_width": null,
            "border": null,
            "align_items": null,
            "bottom": null,
            "_model_module": "@jupyter-widgets/base",
            "top": null,
            "grid_column": null,
            "overflow_y": null,
            "overflow_x": null,
            "grid_auto_flow": null,
            "grid_area": null,
            "grid_template_columns": null,
            "flex": null,
            "_model_name": "LayoutModel",
            "justify_items": null,
            "grid_row": null,
            "max_height": null,
            "align_content": null,
            "visibility": null,
            "align_self": null,
            "height": null,
            "min_height": null,
            "padding": null,
            "grid_auto_rows": null,
            "grid_gap": null,
            "max_width": null,
            "order": null,
            "_view_module_version": "1.2.0",
            "grid_template_areas": null,
            "object_position": null,
            "object_fit": null,
            "grid_auto_columns": null,
            "margin": null,
            "display": null,
            "left": null
          }
        },
        "6ac3df84ebf84030a986f70500e72dd0": {
          "model_module": "@jupyter-widgets/controls",
          "model_name": "FloatProgressModel",
          "state": {
            "_view_name": "ProgressView",
            "style": "IPY_MODEL_e97e04d8d4b443fcbd8657b9c14d832e",
            "_dom_classes": [],
            "description": "100%",
            "_model_name": "FloatProgressModel",
            "bar_style": "success",
            "max": 300,
            "_view_module": "@jupyter-widgets/controls",
            "_model_module_version": "1.5.0",
            "value": 300,
            "_view_count": null,
            "_view_module_version": "1.5.0",
            "orientation": "horizontal",
            "min": 0,
            "description_tooltip": null,
            "_model_module": "@jupyter-widgets/controls",
            "layout": "IPY_MODEL_df0cb2d5c11049828f92471ed6fffd17"
          }
        },
        "269a1af2314946e2afdedaf2b65c3898": {
          "model_module": "@jupyter-widgets/controls",
          "model_name": "HTMLModel",
          "state": {
            "_view_name": "HTMLView",
            "style": "IPY_MODEL_3b7e9178c8fe4548ad47ee1d2539fc57",
            "_dom_classes": [],
            "description": "",
            "_model_name": "HTMLModel",
            "placeholder": "​",
            "_view_module": "@jupyter-widgets/controls",
            "_model_module_version": "1.5.0",
            "value": " 300/300 [02:53&lt;00:00,  1.73it/s]",
            "_view_count": null,
            "_view_module_version": "1.5.0",
            "description_tooltip": null,
            "_model_module": "@jupyter-widgets/controls",
            "layout": "IPY_MODEL_b144e1b2d5c74473b3a36ffb3a86a412"
          }
        },
        "e97e04d8d4b443fcbd8657b9c14d832e": {
          "model_module": "@jupyter-widgets/controls",
          "model_name": "ProgressStyleModel",
          "state": {
            "_view_name": "StyleView",
            "_model_name": "ProgressStyleModel",
            "description_width": "initial",
            "_view_module": "@jupyter-widgets/base",
            "_model_module_version": "1.5.0",
            "_view_count": null,
            "_view_module_version": "1.2.0",
            "bar_color": null,
            "_model_module": "@jupyter-widgets/controls"
          }
        },
        "df0cb2d5c11049828f92471ed6fffd17": {
          "model_module": "@jupyter-widgets/base",
          "model_name": "LayoutModel",
          "state": {
            "_view_name": "LayoutView",
            "grid_template_rows": null,
            "right": null,
            "justify_content": null,
            "_view_module": "@jupyter-widgets/base",
            "overflow": null,
            "_model_module_version": "1.2.0",
            "_view_count": null,
            "flex_flow": null,
            "width": null,
            "min_width": null,
            "border": null,
            "align_items": null,
            "bottom": null,
            "_model_module": "@jupyter-widgets/base",
            "top": null,
            "grid_column": null,
            "overflow_y": null,
            "overflow_x": null,
            "grid_auto_flow": null,
            "grid_area": null,
            "grid_template_columns": null,
            "flex": null,
            "_model_name": "LayoutModel",
            "justify_items": null,
            "grid_row": null,
            "max_height": null,
            "align_content": null,
            "visibility": null,
            "align_self": null,
            "height": null,
            "min_height": null,
            "padding": null,
            "grid_auto_rows": null,
            "grid_gap": null,
            "max_width": null,
            "order": null,
            "_view_module_version": "1.2.0",
            "grid_template_areas": null,
            "object_position": null,
            "object_fit": null,
            "grid_auto_columns": null,
            "margin": null,
            "display": null,
            "left": null
          }
        },
        "3b7e9178c8fe4548ad47ee1d2539fc57": {
          "model_module": "@jupyter-widgets/controls",
          "model_name": "DescriptionStyleModel",
          "state": {
            "_view_name": "StyleView",
            "_model_name": "DescriptionStyleModel",
            "description_width": "",
            "_view_module": "@jupyter-widgets/base",
            "_model_module_version": "1.5.0",
            "_view_count": null,
            "_view_module_version": "1.2.0",
            "_model_module": "@jupyter-widgets/controls"
          }
        },
        "b144e1b2d5c74473b3a36ffb3a86a412": {
          "model_module": "@jupyter-widgets/base",
          "model_name": "LayoutModel",
          "state": {
            "_view_name": "LayoutView",
            "grid_template_rows": null,
            "right": null,
            "justify_content": null,
            "_view_module": "@jupyter-widgets/base",
            "overflow": null,
            "_model_module_version": "1.2.0",
            "_view_count": null,
            "flex_flow": null,
            "width": null,
            "min_width": null,
            "border": null,
            "align_items": null,
            "bottom": null,
            "_model_module": "@jupyter-widgets/base",
            "top": null,
            "grid_column": null,
            "overflow_y": null,
            "overflow_x": null,
            "grid_auto_flow": null,
            "grid_area": null,
            "grid_template_columns": null,
            "flex": null,
            "_model_name": "LayoutModel",
            "justify_items": null,
            "grid_row": null,
            "max_height": null,
            "align_content": null,
            "visibility": null,
            "align_self": null,
            "height": null,
            "min_height": null,
            "padding": null,
            "grid_auto_rows": null,
            "grid_gap": null,
            "max_width": null,
            "order": null,
            "_view_module_version": "1.2.0",
            "grid_template_areas": null,
            "object_position": null,
            "object_fit": null,
            "grid_auto_columns": null,
            "margin": null,
            "display": null,
            "left": null
          }
        },
        "8d8265ca48b7444bad64b7fd749bd4a1": {
          "model_module": "@jupyter-widgets/controls",
          "model_name": "HBoxModel",
          "state": {
            "_view_name": "HBoxView",
            "_dom_classes": [],
            "_model_name": "HBoxModel",
            "_view_module": "@jupyter-widgets/controls",
            "_model_module_version": "1.5.0",
            "_view_count": null,
            "_view_module_version": "1.5.0",
            "box_style": "",
            "layout": "IPY_MODEL_65b1b00e93bd4ac9bcd92f8fac7d47e0",
            "_model_module": "@jupyter-widgets/controls",
            "children": [
              "IPY_MODEL_0d87f773557d4a8ca9ade2e27f46d6d8",
              "IPY_MODEL_4ff95c37295a45bcbb459f0ccb8f2f7f"
            ]
          }
        },
        "65b1b00e93bd4ac9bcd92f8fac7d47e0": {
          "model_module": "@jupyter-widgets/base",
          "model_name": "LayoutModel",
          "state": {
            "_view_name": "LayoutView",
            "grid_template_rows": null,
            "right": null,
            "justify_content": null,
            "_view_module": "@jupyter-widgets/base",
            "overflow": null,
            "_model_module_version": "1.2.0",
            "_view_count": null,
            "flex_flow": null,
            "width": null,
            "min_width": null,
            "border": null,
            "align_items": null,
            "bottom": null,
            "_model_module": "@jupyter-widgets/base",
            "top": null,
            "grid_column": null,
            "overflow_y": null,
            "overflow_x": null,
            "grid_auto_flow": null,
            "grid_area": null,
            "grid_template_columns": null,
            "flex": null,
            "_model_name": "LayoutModel",
            "justify_items": null,
            "grid_row": null,
            "max_height": null,
            "align_content": null,
            "visibility": null,
            "align_self": null,
            "height": null,
            "min_height": null,
            "padding": null,
            "grid_auto_rows": null,
            "grid_gap": null,
            "max_width": null,
            "order": null,
            "_view_module_version": "1.2.0",
            "grid_template_areas": null,
            "object_position": null,
            "object_fit": null,
            "grid_auto_columns": null,
            "margin": null,
            "display": null,
            "left": null
          }
        },
        "0d87f773557d4a8ca9ade2e27f46d6d8": {
          "model_module": "@jupyter-widgets/controls",
          "model_name": "FloatProgressModel",
          "state": {
            "_view_name": "ProgressView",
            "style": "IPY_MODEL_021e79d05b4443b4a2b82bd6317b34fe",
            "_dom_classes": [],
            "description": "100%",
            "_model_name": "FloatProgressModel",
            "bar_style": "success",
            "max": 200,
            "_view_module": "@jupyter-widgets/controls",
            "_model_module_version": "1.5.0",
            "value": 200,
            "_view_count": null,
            "_view_module_version": "1.5.0",
            "orientation": "horizontal",
            "min": 0,
            "description_tooltip": null,
            "_model_module": "@jupyter-widgets/controls",
            "layout": "IPY_MODEL_6e577243020f4aa784b467246cf1f20a"
          }
        },
        "4ff95c37295a45bcbb459f0ccb8f2f7f": {
          "model_module": "@jupyter-widgets/controls",
          "model_name": "HTMLModel",
          "state": {
            "_view_name": "HTMLView",
            "style": "IPY_MODEL_e7394d0c2fe44c06b232548630ed9ab4",
            "_dom_classes": [],
            "description": "",
            "_model_name": "HTMLModel",
            "placeholder": "​",
            "_view_module": "@jupyter-widgets/controls",
            "_model_module_version": "1.5.0",
            "value": " 200/200 [04:18&lt;00:00,  1.29s/it]",
            "_view_count": null,
            "_view_module_version": "1.5.0",
            "description_tooltip": null,
            "_model_module": "@jupyter-widgets/controls",
            "layout": "IPY_MODEL_76edfd6f2f4e467fb22d34daca00ef8b"
          }
        },
        "021e79d05b4443b4a2b82bd6317b34fe": {
          "model_module": "@jupyter-widgets/controls",
          "model_name": "ProgressStyleModel",
          "state": {
            "_view_name": "StyleView",
            "_model_name": "ProgressStyleModel",
            "description_width": "initial",
            "_view_module": "@jupyter-widgets/base",
            "_model_module_version": "1.5.0",
            "_view_count": null,
            "_view_module_version": "1.2.0",
            "bar_color": null,
            "_model_module": "@jupyter-widgets/controls"
          }
        },
        "6e577243020f4aa784b467246cf1f20a": {
          "model_module": "@jupyter-widgets/base",
          "model_name": "LayoutModel",
          "state": {
            "_view_name": "LayoutView",
            "grid_template_rows": null,
            "right": null,
            "justify_content": null,
            "_view_module": "@jupyter-widgets/base",
            "overflow": null,
            "_model_module_version": "1.2.0",
            "_view_count": null,
            "flex_flow": null,
            "width": null,
            "min_width": null,
            "border": null,
            "align_items": null,
            "bottom": null,
            "_model_module": "@jupyter-widgets/base",
            "top": null,
            "grid_column": null,
            "overflow_y": null,
            "overflow_x": null,
            "grid_auto_flow": null,
            "grid_area": null,
            "grid_template_columns": null,
            "flex": null,
            "_model_name": "LayoutModel",
            "justify_items": null,
            "grid_row": null,
            "max_height": null,
            "align_content": null,
            "visibility": null,
            "align_self": null,
            "height": null,
            "min_height": null,
            "padding": null,
            "grid_auto_rows": null,
            "grid_gap": null,
            "max_width": null,
            "order": null,
            "_view_module_version": "1.2.0",
            "grid_template_areas": null,
            "object_position": null,
            "object_fit": null,
            "grid_auto_columns": null,
            "margin": null,
            "display": null,
            "left": null
          }
        },
        "e7394d0c2fe44c06b232548630ed9ab4": {
          "model_module": "@jupyter-widgets/controls",
          "model_name": "DescriptionStyleModel",
          "state": {
            "_view_name": "StyleView",
            "_model_name": "DescriptionStyleModel",
            "description_width": "",
            "_view_module": "@jupyter-widgets/base",
            "_model_module_version": "1.5.0",
            "_view_count": null,
            "_view_module_version": "1.2.0",
            "_model_module": "@jupyter-widgets/controls"
          }
        },
        "76edfd6f2f4e467fb22d34daca00ef8b": {
          "model_module": "@jupyter-widgets/base",
          "model_name": "LayoutModel",
          "state": {
            "_view_name": "LayoutView",
            "grid_template_rows": null,
            "right": null,
            "justify_content": null,
            "_view_module": "@jupyter-widgets/base",
            "overflow": null,
            "_model_module_version": "1.2.0",
            "_view_count": null,
            "flex_flow": null,
            "width": null,
            "min_width": null,
            "border": null,
            "align_items": null,
            "bottom": null,
            "_model_module": "@jupyter-widgets/base",
            "top": null,
            "grid_column": null,
            "overflow_y": null,
            "overflow_x": null,
            "grid_auto_flow": null,
            "grid_area": null,
            "grid_template_columns": null,
            "flex": null,
            "_model_name": "LayoutModel",
            "justify_items": null,
            "grid_row": null,
            "max_height": null,
            "align_content": null,
            "visibility": null,
            "align_self": null,
            "height": null,
            "min_height": null,
            "padding": null,
            "grid_auto_rows": null,
            "grid_gap": null,
            "max_width": null,
            "order": null,
            "_view_module_version": "1.2.0",
            "grid_template_areas": null,
            "object_position": null,
            "object_fit": null,
            "grid_auto_columns": null,
            "margin": null,
            "display": null,
            "left": null
          }
        },
        "157d0f97d32348ae8d2ae37ef5d7f982": {
          "model_module": "@jupyter-widgets/controls",
          "model_name": "HBoxModel",
          "state": {
            "_view_name": "HBoxView",
            "_dom_classes": [],
            "_model_name": "HBoxModel",
            "_view_module": "@jupyter-widgets/controls",
            "_model_module_version": "1.5.0",
            "_view_count": null,
            "_view_module_version": "1.5.0",
            "box_style": "",
            "layout": "IPY_MODEL_31c9561af0e14ebc9400529b4d30418a",
            "_model_module": "@jupyter-widgets/controls",
            "children": [
              "IPY_MODEL_11a13cc14b7c4ec7b5afb42ffe7a0b28",
              "IPY_MODEL_a233d934314d45409c5549d5f03007e0"
            ]
          }
        },
        "31c9561af0e14ebc9400529b4d30418a": {
          "model_module": "@jupyter-widgets/base",
          "model_name": "LayoutModel",
          "state": {
            "_view_name": "LayoutView",
            "grid_template_rows": null,
            "right": null,
            "justify_content": null,
            "_view_module": "@jupyter-widgets/base",
            "overflow": null,
            "_model_module_version": "1.2.0",
            "_view_count": null,
            "flex_flow": null,
            "width": null,
            "min_width": null,
            "border": null,
            "align_items": null,
            "bottom": null,
            "_model_module": "@jupyter-widgets/base",
            "top": null,
            "grid_column": null,
            "overflow_y": null,
            "overflow_x": null,
            "grid_auto_flow": null,
            "grid_area": null,
            "grid_template_columns": null,
            "flex": null,
            "_model_name": "LayoutModel",
            "justify_items": null,
            "grid_row": null,
            "max_height": null,
            "align_content": null,
            "visibility": null,
            "align_self": null,
            "height": null,
            "min_height": null,
            "padding": null,
            "grid_auto_rows": null,
            "grid_gap": null,
            "max_width": null,
            "order": null,
            "_view_module_version": "1.2.0",
            "grid_template_areas": null,
            "object_position": null,
            "object_fit": null,
            "grid_auto_columns": null,
            "margin": null,
            "display": null,
            "left": null
          }
        },
        "11a13cc14b7c4ec7b5afb42ffe7a0b28": {
          "model_module": "@jupyter-widgets/controls",
          "model_name": "FloatProgressModel",
          "state": {
            "_view_name": "ProgressView",
            "style": "IPY_MODEL_55979671721c449e84a25bd236646bdd",
            "_dom_classes": [],
            "description": " 68%",
            "_model_name": "FloatProgressModel",
            "bar_style": "danger",
            "max": 400,
            "_view_module": "@jupyter-widgets/controls",
            "_model_module_version": "1.5.0",
            "value": 272,
            "_view_count": null,
            "_view_module_version": "1.5.0",
            "orientation": "horizontal",
            "min": 0,
            "description_tooltip": null,
            "_model_module": "@jupyter-widgets/controls",
            "layout": "IPY_MODEL_6a1450fe22a34922a98a13cabc398d13"
          }
        },
        "a233d934314d45409c5549d5f03007e0": {
          "model_module": "@jupyter-widgets/controls",
          "model_name": "HTMLModel",
          "state": {
            "_view_name": "HTMLView",
            "style": "IPY_MODEL_67c83bc14bd440698f8c27e9217730e6",
            "_dom_classes": [],
            "description": "",
            "_model_name": "HTMLModel",
            "placeholder": "​",
            "_view_module": "@jupyter-widgets/controls",
            "_model_module_version": "1.5.0",
            "value": " 272/400 [02:14&lt;00:59,  2.16it/s]",
            "_view_count": null,
            "_view_module_version": "1.5.0",
            "description_tooltip": null,
            "_model_module": "@jupyter-widgets/controls",
            "layout": "IPY_MODEL_98eecb59dc21458597cee1adaed6e698"
          }
        },
        "55979671721c449e84a25bd236646bdd": {
          "model_module": "@jupyter-widgets/controls",
          "model_name": "ProgressStyleModel",
          "state": {
            "_view_name": "StyleView",
            "_model_name": "ProgressStyleModel",
            "description_width": "initial",
            "_view_module": "@jupyter-widgets/base",
            "_model_module_version": "1.5.0",
            "_view_count": null,
            "_view_module_version": "1.2.0",
            "bar_color": null,
            "_model_module": "@jupyter-widgets/controls"
          }
        },
        "6a1450fe22a34922a98a13cabc398d13": {
          "model_module": "@jupyter-widgets/base",
          "model_name": "LayoutModel",
          "state": {
            "_view_name": "LayoutView",
            "grid_template_rows": null,
            "right": null,
            "justify_content": null,
            "_view_module": "@jupyter-widgets/base",
            "overflow": null,
            "_model_module_version": "1.2.0",
            "_view_count": null,
            "flex_flow": null,
            "width": null,
            "min_width": null,
            "border": null,
            "align_items": null,
            "bottom": null,
            "_model_module": "@jupyter-widgets/base",
            "top": null,
            "grid_column": null,
            "overflow_y": null,
            "overflow_x": null,
            "grid_auto_flow": null,
            "grid_area": null,
            "grid_template_columns": null,
            "flex": null,
            "_model_name": "LayoutModel",
            "justify_items": null,
            "grid_row": null,
            "max_height": null,
            "align_content": null,
            "visibility": null,
            "align_self": null,
            "height": null,
            "min_height": null,
            "padding": null,
            "grid_auto_rows": null,
            "grid_gap": null,
            "max_width": null,
            "order": null,
            "_view_module_version": "1.2.0",
            "grid_template_areas": null,
            "object_position": null,
            "object_fit": null,
            "grid_auto_columns": null,
            "margin": null,
            "display": null,
            "left": null
          }
        },
        "67c83bc14bd440698f8c27e9217730e6": {
          "model_module": "@jupyter-widgets/controls",
          "model_name": "DescriptionStyleModel",
          "state": {
            "_view_name": "StyleView",
            "_model_name": "DescriptionStyleModel",
            "description_width": "",
            "_view_module": "@jupyter-widgets/base",
            "_model_module_version": "1.5.0",
            "_view_count": null,
            "_view_module_version": "1.2.0",
            "_model_module": "@jupyter-widgets/controls"
          }
        },
        "98eecb59dc21458597cee1adaed6e698": {
          "model_module": "@jupyter-widgets/base",
          "model_name": "LayoutModel",
          "state": {
            "_view_name": "LayoutView",
            "grid_template_rows": null,
            "right": null,
            "justify_content": null,
            "_view_module": "@jupyter-widgets/base",
            "overflow": null,
            "_model_module_version": "1.2.0",
            "_view_count": null,
            "flex_flow": null,
            "width": null,
            "min_width": null,
            "border": null,
            "align_items": null,
            "bottom": null,
            "_model_module": "@jupyter-widgets/base",
            "top": null,
            "grid_column": null,
            "overflow_y": null,
            "overflow_x": null,
            "grid_auto_flow": null,
            "grid_area": null,
            "grid_template_columns": null,
            "flex": null,
            "_model_name": "LayoutModel",
            "justify_items": null,
            "grid_row": null,
            "max_height": null,
            "align_content": null,
            "visibility": null,
            "align_self": null,
            "height": null,
            "min_height": null,
            "padding": null,
            "grid_auto_rows": null,
            "grid_gap": null,
            "max_width": null,
            "order": null,
            "_view_module_version": "1.2.0",
            "grid_template_areas": null,
            "object_position": null,
            "object_fit": null,
            "grid_auto_columns": null,
            "margin": null,
            "display": null,
            "left": null
          }
        }
      }
    }
  },
  "cells": [
    {
      "cell_type": "markdown",
      "metadata": {
        "id": "view-in-github",
        "colab_type": "text"
      },
      "source": [
        "<a href=\"https://colab.research.google.com/github/ChuChuUp/20F_1008_DL/blob/master/MNIST_Lab2.ipynb\" target=\"_parent\"><img src=\"https://colab.research.google.com/assets/colab-badge.svg\" alt=\"Open In Colab\"/></a>"
      ]
    },
    {
      "cell_type": "code",
      "metadata": {
        "scrolled": true,
        "id": "XYNiTwrRh-sF",
        "colab_type": "code",
        "colab": {}
      },
      "source": [
        "import random\n",
        "import torch\n",
        "from torch import nn, optim\n",
        "import math\n",
        "device = torch.device(\"cuda\" if torch.cuda.is_available() else \"cpu\")\n",
        "import pandas as pd\n",
        "from collections import Counter\n",
        "import numpy as np \n",
        "from torch.utils.data import Dataset, DataLoader\n",
        "from tqdm.auto import tqdm\n",
        "from sklearn.datasets import fetch_openml\n",
        "from google.colab import output\n",
        "import matplotlib.pyplot as plt"
      ],
      "execution_count": null,
      "outputs": []
    },
    {
      "cell_type": "markdown",
      "metadata": {
        "id": "Iu3q2Idg3KrY",
        "colab_type": "text"
      },
      "source": [
        "#### Download the data"
      ]
    },
    {
      "cell_type": "code",
      "metadata": {
        "id": "Nu0m_lhd-kJR",
        "colab_type": "code",
        "colab": {
          "base_uri": "https://localhost:8080/",
          "height": 34
        },
        "outputId": "86ac29ec-7c2e-4798-b34a-1e66c2a43c54"
      },
      "source": [
        "from google.colab import drive\n",
        "drive.mount('/content/drive')"
      ],
      "execution_count": null,
      "outputs": [
        {
          "output_type": "stream",
          "text": [
            "Mounted at /content/drive\n"
          ],
          "name": "stdout"
        }
      ]
    },
    {
      "cell_type": "code",
      "metadata": {
        "id": "27wBPNGSh-sI",
        "colab_type": "code",
        "colab": {}
      },
      "source": [
        "X, y = fetch_openml('mnist_784', version=1, return_X_y=True)"
      ],
      "execution_count": null,
      "outputs": []
    },
    {
      "cell_type": "code",
      "metadata": {
        "id": "Vl2Iulj6HaPC",
        "colab_type": "code",
        "colab": {
          "base_uri": "https://localhost:8080/",
          "height": 34
        },
        "outputId": "e77f0963-98c5-4a85-c7ee-814a9f78d6cf"
      },
      "source": [
        "X.shape, y.shape"
      ],
      "execution_count": null,
      "outputs": [
        {
          "output_type": "execute_result",
          "data": {
            "text/plain": [
              "((70000, 784), (70000,))"
            ]
          },
          "metadata": {
            "tags": []
          },
          "execution_count": 3
        }
      ]
    },
    {
      "cell_type": "code",
      "metadata": {
        "id": "DbHRgyMeqGSW",
        "colab_type": "code",
        "colab": {
          "base_uri": "https://localhost:8080/",
          "height": 294
        },
        "outputId": "b62901a3-7a12-4f8e-848d-12508aa6355e"
      },
      "source": [
        "fig, ((ax1, ax2), (ax3, ax4)) = plt.subplots(2, 2)\n",
        "fig.suptitle('Some examples of MNIST images')\n",
        "ax1.imshow(X[0].reshape(28,28), cmap='gray')\n",
        "ax2.imshow(X[1].reshape(28,28), cmap='gray')\n",
        "ax3.imshow(X[2].reshape(28,28), cmap='gray')\n",
        "ax4.imshow(X[3].reshape(28,28), cmap='gray')\n",
        "\n",
        "for ax in fig.get_axes():\n",
        "    ax.label_outer()"
      ],
      "execution_count": null,
      "outputs": [
        {
          "output_type": "display_data",
          "data": {
            "image/png": "[encoded data removed]",
            "text/plain": [
              "<Figure size 432x288 with 4 Axes>"
            ]
          },
          "metadata": {
            "tags": [],
            "needs_background": "light"
          }
        }
      ]
    },
    {
      "cell_type": "code",
      "metadata": {
        "id": "-OQAtRJih-sL",
        "colab_type": "code",
        "colab": {}
      },
      "source": [
        "y = np.array([float(ele) for ele in y])"
      ],
      "execution_count": null,
      "outputs": []
    },
    {
      "cell_type": "markdown",
      "metadata": {
        "id": "7GRbeYn_h-sN",
        "colab_type": "text"
      },
      "source": [
        "#### Divide the training set into train and validation. Use this set to tune the hyper parameters"
      ]
    },
    {
      "cell_type": "code",
      "metadata": {
        "id": "ZUQraegmh-sN",
        "colab_type": "code",
        "colab": {}
      },
      "source": [
        "shuf = torch.randperm(y.shape[0])\n",
        "\n",
        "# Shuffle the data first incase they are saved in some ordering  \n",
        "y = y[shuf]\n",
        "X = X[shuf,:]\n",
        "\n",
        "X_train = X[:50_000]\n",
        "y_train = y[:50_000]\n",
        "\n",
        "X_val = X[50_000:60_000]\n",
        "y_val = y[50_000:60_000]\n",
        "\n",
        "X_test = X[60_000:]\n",
        "y_test = y[60_000:]\n",
        "\n",
        "# Optionally : torch.utils.data.random_split(dataset, lengths)"
      ],
      "execution_count": null,
      "outputs": []
    },
    {
      "cell_type": "code",
      "metadata": {
        "id": "qlTcHsMfh-sQ",
        "colab_type": "code",
        "colab": {
          "base_uri": "https://localhost:8080/",
          "height": 34
        },
        "outputId": "3da3e261-713d-4486-d3a6-22096115239e"
      },
      "source": [
        "num_classes = len(set(y))\n",
        "print(num_classes)"
      ],
      "execution_count": null,
      "outputs": [
        {
          "output_type": "stream",
          "text": [
            "10\n"
          ],
          "name": "stdout"
        }
      ]
    },
    {
      "cell_type": "markdown",
      "metadata": {
        "id": "5cv6wmxOh-sS",
        "colab_type": "text"
      },
      "source": [
        "#### Calculate statistics and normalise the data "
      ]
    },
    {
      "cell_type": "code",
      "metadata": {
        "id": "Q5GCUWdrh-sT",
        "colab_type": "code",
        "colab": {}
      },
      "source": [
        "mean = X_train.mean(axis=0)\n",
        "std = X_train.std(axis=0)\n",
        "\n",
        "X_train -= mean # Zero center the data\n",
        "X_train /= std + 1e-4 # Make it unit variance \n",
        "\n",
        "X_val -= mean # Notice that you use the statistics computed on train data for this step\n",
        "X_val /= std + 1e-4\n",
        "\n",
        "X_test -= mean # Notice that you use the statistics computed on train data for this step\n",
        "X_test /= std +1e-4"
      ],
      "execution_count": null,
      "outputs": []
    },
    {
      "cell_type": "code",
      "metadata": {
        "id": "kq6rwvHT6W1s",
        "colab_type": "code",
        "colab": {
          "base_uri": "https://localhost:8080/",
          "height": 294
        },
        "outputId": "e4ce30f2-3f42-45be-d0f4-2892b40d7b1f"
      },
      "source": [
        "fig, ((ax1, ax2), (ax3, ax4)) = plt.subplots(2, 2)\n",
        "fig.suptitle('Some examples of MNIST images')\n",
        "ax1.imshow(X_val[0].reshape(28,28), cmap='gray')\n",
        "ax2.imshow(X_val[1].reshape(28,28), cmap='gray')\n",
        "ax3.imshow(X_val[2].reshape(28,28), cmap='gray')\n",
        "ax4.imshow(X_val[3].reshape(28,28), cmap='gray')\n",
        "\n",
        "for ax in fig.get_axes():\n",
        "    ax.label_outer()"
      ],
      "execution_count": null,
      "outputs": [
        {
          "output_type": "display_data",
          "data": {
            "image/png": "[encoded data removed]",
            "text/plain": [
              "<Figure size 432x288 with 4 Axes>"
            ]
          },
          "metadata": {
            "tags": [],
            "needs_background": "light"
          }
        }
      ]
    },
    {
      "cell_type": "markdown",
      "metadata": {
        "id": "-ZumLSkGh-sV",
        "colab_type": "text"
      },
      "source": [
        "#### Make Pytorch Dataset "
      ]
    },
    {
      "cell_type": "code",
      "metadata": {
        "id": "6_twP9T3h-sY",
        "colab_type": "code",
        "colab": {}
      },
      "source": [
        "class MNISTDataset(Dataset):\n",
        "    def __init__(self, X, y):\n",
        "        self.labels = torch.as_tensor(y, dtype=torch.long).to(device)\n",
        "        self.data = torch.as_tensor(X, dtype=torch.float).to(device)\n",
        "        \n",
        "    def __len__(self):\n",
        "        return len(self.data)\n",
        "    \n",
        "    def __getitem__(self, idx):\n",
        "        sample = {'x' : self.data[idx], 'y': self.labels[idx] }\n",
        "        return sample"
      ],
      "execution_count": null,
      "outputs": []
    },
    {
      "cell_type": "code",
      "metadata": {
        "id": "OikgBRZUh-sa",
        "colab_type": "code",
        "colab": {
          "base_uri": "https://localhost:8080/",
          "height": 69
        },
        "outputId": "ecfc849f-a432-403c-fe70-81832ba7cf27"
      },
      "source": [
        "train_dataset = MNISTDataset(X_train, y_train)\n",
        "print(f\"Lenth of train dataset {len(train_dataset)}\")\n",
        "val_dataset = MNISTDataset(X_val, y_val)\n",
        "print(f\"Lenth of val dataset {len(val_dataset)}\")\n",
        "test_dataset = MNISTDataset(X_test, y_test)\n",
        "print(f\"Lenth of test dataset {len(test_dataset)}\")"
      ],
      "execution_count": null,
      "outputs": [
        {
          "output_type": "stream",
          "text": [
            "Lenth of train dataset 50000\n",
            "Lenth of val dataset 10000\n",
            "Lenth of test dataset 10000\n"
          ],
          "name": "stdout"
        }
      ]
    },
    {
      "cell_type": "markdown",
      "metadata": {
        "id": "CJIBEIVZ3VJz",
        "colab_type": "text"
      },
      "source": [
        "#### Define the data sampler"
      ]
    },
    {
      "cell_type": "code",
      "metadata": {
        "id": "JcmRSz9vh-sc",
        "colab_type": "code",
        "colab": {}
      },
      "source": [
        "train_sampler = torch.utils.data.RandomSampler(train_dataset)\n",
        "val_sampler = torch.utils.data.SequentialSampler(val_dataset)\n",
        "test_sampler = torch.utils.data.SequentialSampler(test_dataset)"
      ],
      "execution_count": null,
      "outputs": []
    },
    {
      "cell_type": "markdown",
      "metadata": {
        "id": "s9AdlrkHh-sf",
        "colab_type": "text"
      },
      "source": [
        "#### Define the data loader "
      ]
    },
    {
      "cell_type": "code",
      "metadata": {
        "id": "UBKlV6F3h-sf",
        "colab_type": "code",
        "colab": {}
      },
      "source": [
        "bs = 1024 # Define the batch size\n",
        "\n",
        "train_loader = DataLoader(train_dataset, batch_size=bs, sampler=train_sampler, drop_last=False)\n",
        "val_loader = DataLoader(val_dataset, batch_size=bs, sampler=val_sampler, drop_last=False)\n",
        "test_loader = DataLoader(test_dataset, batch_size=bs, sampler=test_sampler, drop_last=False)"
      ],
      "execution_count": null,
      "outputs": []
    },
    {
      "cell_type": "code",
      "metadata": {
        "id": "96ChHG88h-sh",
        "colab_type": "code",
        "colab": {}
      },
      "source": [
        "seed = 12345\n",
        "random.seed(seed)\n",
        "torch.manual_seed(seed)\n",
        "D = X_train.shape[1] # number of feature dimensions\n",
        "C = num_classes  # num_classes\n",
        "H = 128 "
      ],
      "execution_count": null,
      "outputs": []
    },
    {
      "cell_type": "markdown",
      "metadata": {
        "id": "IffPJEhwkLbb",
        "colab_type": "text"
      },
      "source": [
        "#### Linear model"
      ]
    },
    {
      "cell_type": "code",
      "metadata": {
        "id": "obexVjjjh-sj",
        "colab_type": "code",
        "colab": {
          "base_uri": "https://localhost:8080/",
          "height": 377,
          "referenced_widgets": [
            "fb81f94ce22c4276bf78ad6f88b48bfb",
            "11c843e2313843d6816536ac8d43b32b",
            "0c129c69ed8e4e6e880821e0473ee620",
            "3df339a9d9ec47f98917c939ff37e919",
            "0295a5644d334abe8a4c7a30e7068ed6",
            "0e5710264b614171ba100617c2cedf56",
            "2bfd1377360244b1b86c5cd0d9e70f4b",
            "d3c241e3f8fa4a03863b456db3a7c34e"
          ]
        },
        "outputId": "2f9f00a2-c340-41b0-ff9d-6421166567b1"
      },
      "source": [
        "learning_rate = 1e-3\n",
        "lambda_l2 = 1e-5\n",
        "\n",
        "# nn package to create our linear model\n",
        "# each Linear module has a weight and bias\n",
        "model = nn.Sequential(\n",
        "    nn.Linear(D, H),\n",
        "    nn.Linear(H, H),\n",
        "    nn.Linear(H, C),\n",
        ")\n",
        "model.to(device) #Convert to CUDA\n",
        "\n",
        "# nn package also has different loss functions.\n",
        "# we use cross entropy loss for our classification task\n",
        "criterion = torch.nn.CrossEntropyLoss()\n",
        "\n",
        "# we use the optim package to apply\n",
        "# stochastic gradient descent for our parameter updates\n",
        "optimizer = torch.optim.SGD(model.parameters(), lr=learning_rate, \n",
        "                            weight_decay=lambda_l2) # built-in L2\n",
        "\n",
        "# Training\n",
        "train_losses = []\n",
        "val_losses = []\n",
        "train_accuracies = []\n",
        "val_accuracies = []\n",
        "\n",
        "for t in tqdm(range(300)):\n",
        "    epoch_t_acc = 0.0 \n",
        "    epoch_t_loss = 0.0\n",
        "    \n",
        "    for i, samples in enumerate(train_loader):\n",
        "        model.train()\n",
        "        # Feed forward to get the logits\n",
        "        y_pred_train = model(samples['x'])\n",
        "\n",
        "        # Compute the loss and accuracy\n",
        "        loss = criterion(y_pred_train, samples['y'])\n",
        "        score, predicted = torch.max(y_pred_train, 1)\n",
        "        train_acc = (samples['y'] == predicted).sum().float() / len(samples['y'])\n",
        "\n",
        "        # zero the gradients before running\n",
        "        # the backward pass.\n",
        "        optimizer.zero_grad()\n",
        "\n",
        "        # Backward pass to compute the gradient\n",
        "        # of loss w.r.t our learnable params. \n",
        "        loss.backward()\n",
        "\n",
        "        # Update params\n",
        "        optimizer.step()\n",
        "        \n",
        "        epoch_t_acc += train_acc\n",
        "        epoch_t_loss += loss.item()\n",
        "    \n",
        "    train_accuracies.append(epoch_t_acc/len(train_loader))\n",
        "    train_losses.append(epoch_t_loss/len(train_loader))\n",
        "    \n",
        "    model.eval()\n",
        "    \n",
        "    v_acc = 0.0\n",
        "    v_loss = 0.0 \n",
        "    \n",
        "    with torch.no_grad():\n",
        "        for i, samples in enumerate((val_loader)):\n",
        "            y_pred_val = model(samples['x'])\n",
        "            score, predicted = torch.max(y_pred_val, 1)\n",
        "            val_loss = criterion(y_pred_val, samples['y'])\n",
        "            val_acc = (samples['y'] == predicted).sum().float() / len(samples['y'])\n",
        "            \n",
        "            v_acc += val_acc\n",
        "            v_loss += val_loss.item()\n",
        "            \n",
        "    val_accuracies.append(v_acc/len(val_loader))\n",
        "    val_losses.append(v_loss/len(val_loader))\n",
        "\n",
        "    if t%50 == 0:\n",
        "        print(\"[EPOCH]: %i, [TRAIN LOSS]: %.6f, [TRAIN ACCURACY]: %.3f\" % (t, train_losses[-1], train_accuracies[-1]))\n",
        "        print(\"[EPOCH]: %i, [VAL LOSS]: %.6f, [VAL ACCURACY]: %.3f \\n\" % (t, val_losses[-1] ,val_accuracies[-1]))\n"
      ],
      "execution_count": null,
      "outputs": [
        {
          "output_type": "display_data",
          "data": {
            "application/vnd.jupyter.widget-view+json": {
              "model_id": "fb81f94ce22c4276bf78ad6f88b48bfb",
              "version_minor": 0,
              "version_major": 2
            },
            "text/plain": [
              "HBox(children=(FloatProgress(value=0.0, max=300.0), HTML(value='')))"
            ]
          },
          "metadata": {
            "tags": []
          }
        },
        {
          "output_type": "stream",
          "text": [
            "[EPOCH]: 0, [TRAIN LOSS]: 2.268290, [TRAIN ACCURACY]: 0.142\n",
            "[EPOCH]: 0, [VAL LOSS]: 3.283117, [VAL ACCURACY]: 0.194 \n",
            "\n",
            "[EPOCH]: 50, [TRAIN LOSS]: 0.633092, [TRAIN ACCURACY]: 0.846\n",
            "[EPOCH]: 50, [VAL LOSS]: 3.463064, [VAL ACCURACY]: 0.845 \n",
            "\n",
            "[EPOCH]: 100, [TRAIN LOSS]: 0.429832, [TRAIN ACCURACY]: 0.882\n",
            "[EPOCH]: 100, [VAL LOSS]: 3.780258, [VAL ACCURACY]: 0.877 \n",
            "\n",
            "[EPOCH]: 150, [TRAIN LOSS]: 0.371584, [TRAIN ACCURACY]: 0.895\n",
            "[EPOCH]: 150, [VAL LOSS]: 3.883698, [VAL ACCURACY]: 0.890 \n",
            "\n",
            "[EPOCH]: 200, [TRAIN LOSS]: 0.342452, [TRAIN ACCURACY]: 0.902\n",
            "[EPOCH]: 200, [VAL LOSS]: 3.923202, [VAL ACCURACY]: 0.896 \n",
            "\n",
            "[EPOCH]: 250, [TRAIN LOSS]: 0.323622, [TRAIN ACCURACY]: 0.907\n",
            "[EPOCH]: 250, [VAL LOSS]: 3.949255, [VAL ACCURACY]: 0.900 \n",
            "\n",
            "\n"
          ],
          "name": "stdout"
        }
      ]
    },
    {
      "cell_type": "code",
      "metadata": {
        "id": "ueEySkqPkCND",
        "colab_type": "code",
        "colab": {
          "base_uri": "https://localhost:8080/",
          "height": 173
        },
        "outputId": "21ba0141-a729-446b-b908-f0adf007e22e"
      },
      "source": [
        "print(model)\n",
        "print(f\"Training accuracy of final model : {train_accuracies[-1]}\")\n",
        "print(f\"Validation accuracy of final model: {val_accuracies[-1]}\")\n",
        "print(f\"Training loss of final model: {train_losses[-1]}\")\n",
        "print(f\"Validation loss of final model: {val_losses[-1]}\")"
      ],
      "execution_count": null,
      "outputs": [
        {
          "output_type": "stream",
          "text": [
            "Sequential(\n",
            "  (0): Linear(in_features=784, out_features=128, bias=True)\n",
            "  (1): Linear(in_features=128, out_features=128, bias=True)\n",
            "  (2): Linear(in_features=128, out_features=10, bias=True)\n",
            ")\n",
            "Training accuracy of final model : 0.9110651612281799\n",
            "Validation accuracy of final model: 0.9069833755493164\n",
            "Training loss of final model: 0.31110587047070876\n",
            "Validation loss of final model: 2.5113200902938844\n"
          ],
          "name": "stdout"
        }
      ]
    },
    {
      "cell_type": "code",
      "metadata": {
        "id": "2jL_Ln0omkbv",
        "colab_type": "code",
        "colab": {
          "base_uri": "https://localhost:8080/",
          "height": 296
        },
        "outputId": "ac553234-1f9c-4ead-e270-b1111eb3b53b"
      },
      "source": [
        "import matplotlib.pyplot as plt\n",
        "plt.figure(figsize=(8,4))\n",
        "plt.plot(train_losses, label='train loss')\n",
        "plt.plot(val_losses, label='validation loss')\n",
        "plt.xlabel('Epochs')\n",
        "plt.ylabel('Losses')\n",
        "plt.legend()\n",
        "plt.ylim(top=np.max(train_losses+val_losses))"
      ],
      "execution_count": null,
      "outputs": [
        {
          "output_type": "execute_result",
          "data": {
            "text/plain": [
              "(0.18208475393908366, 2.8915282011032106)"
            ]
          },
          "metadata": {
            "tags": []
          },
          "execution_count": 15
        },
        {
          "output_type": "display_data",
          "data": {
            "image/png": "[encoded data removed]",
            "text/plain": [
              "<Figure size 576x288 with 1 Axes>"
            ]
          },
          "metadata": {
            "tags": [],
            "needs_background": "light"
          }
        }
      ]
    },
    {
      "cell_type": "markdown",
      "metadata": {
        "id": "7LktSXEL3bVm",
        "colab_type": "text"
      },
      "source": [
        "#### Non linear model - Same size as above but with ReLU "
      ]
    },
    {
      "cell_type": "code",
      "metadata": {
        "id": "42m1EtG3h-sl",
        "colab_type": "code",
        "colab": {
          "base_uri": "https://localhost:8080/",
          "height": 274,
          "referenced_widgets": [
            "6cada2b63c9740b4bbd012988e60b8f2",
            "cbc0aa8aa7a54f5baea220a838bd489c",
            "e3e1f2677b524e8aad76ee49118d27c3",
            "18a443b0a0e84b0a9be7ec9b3fc75352",
            "d50902a5ae654646b0e364499b9d4b20",
            "9af65b1e08454169882d62bffac5fdde",
            "d478f21add3a4912978d2b36407f6a45",
            "66da0f5b58ae4cdbbdaf1277340a13c4"
          ]
        },
        "outputId": "045cf0bb-0bc9-4067-ebfa-14cf8a7bed14"
      },
      "source": [
        "learning_rate = 1e-4\n",
        "lambda_l2 = 1e-4\n",
        "\n",
        "# nn package to create our linear model\n",
        "# each Linear module has a weight and bias\n",
        "\n",
        "model = nn.Sequential(\n",
        "    nn.Linear(D, H),\n",
        "    nn.ReLU(),\n",
        "    nn.Linear(H, H),\n",
        "    nn.ReLU(),\n",
        "    nn.Linear(H,C),\n",
        ")\n",
        "\n",
        "model.to(device)\n",
        "\n",
        "# nn package also has different loss functions.\n",
        "# we use cross entropy loss for our classification task\n",
        "# criterion = torch.nn.CrossEntropyLoss(weight=class_weights)\n",
        "criterion = torch.nn.CrossEntropyLoss()\n",
        "\n",
        "# we use the optim package to apply\n",
        "# ADAM for our parameter updates\n",
        "optimizer = torch.optim.Adam(model.parameters(), lr=learning_rate, weight_decay=lambda_l2) # built-in L2\n",
        "\n",
        "# Training\n",
        "best_val = 0.0\n",
        "train_losses = []\n",
        "val_losses = []\n",
        "train_accuracies = []\n",
        "\n",
        "\n",
        "# Training\n",
        "for t in tqdm(range(200)):\n",
        "    epoch_t_acc = 0.0 \n",
        "    epoch_t_loss = 0.0\n",
        "    \n",
        "    for i, samples in enumerate(train_loader):\n",
        "        model.train()\n",
        "        # Feed forward to get the logits\n",
        "        y_pred_train = model(samples['x'])\n",
        "\n",
        "        # Compute the loss and accuracy\n",
        "        loss = criterion(y_pred_train, samples['y'])\n",
        "        score, predicted = torch.max(y_pred_train, 1)\n",
        "        train_acc = (samples['y'] == predicted).sum().float() / len(samples['y'])\n",
        "\n",
        "        # zero the gradients before running\n",
        "        # the backward pass.\n",
        "        optimizer.zero_grad()\n",
        "\n",
        "        # Backward pass to compute the gradient\n",
        "        # of loss w.r.t our learnable params. \n",
        "        loss.backward()\n",
        "\n",
        "        # Update params\n",
        "        optimizer.step()\n",
        "        \n",
        "        epoch_t_acc += train_acc\n",
        "        epoch_t_loss += loss.item()\n",
        "    \n",
        "    train_accuracies.append(epoch_t_acc/len(train_loader))\n",
        "    train_losses.append(epoch_t_loss/len(train_loader))\n",
        "    \n",
        "    model.eval()\n",
        "    \n",
        "    v_acc = 0.0\n",
        "    v_loss = 0.0\n",
        "    \n",
        "    with torch.no_grad():\n",
        "        for i, samples in enumerate(val_loader):\n",
        "            y_pred_val = model(samples['x'])\n",
        "            score, predicted = torch.max(y_pred_val, 1)\n",
        "            val_loss = criterion(y_pred_val, samples['y'])\n",
        "            val_acc = (samples['y'] == predicted).sum().float() / len(samples['y'])\n",
        "            \n",
        "            v_acc += val_acc\n",
        "            v_loss += val_loss.item()\n",
        "            \n",
        "    val_accuracies.append(v_acc/len(val_loader))\n",
        "    val_losses.append(v_loss/len(val_loader))\n",
        "    \n",
        "    if t%50 == 0:\n",
        "        print(\"[EPOCH]: %i, [TRAIN LOSS]: %.6f, [TRAIN ACCURACY]: %.3f\" % (t, train_losses[-1], train_accuracies[-1]))\n",
        "        print(\"[EPOCH]: %i, [VAL LOSS]: %.6f, [VAL ACCURACY]: %.3f \\n\" % (t, val_losses[-1] ,val_accuracies[-1]))\n",
        "        \n"
      ],
      "execution_count": null,
      "outputs": [
        {
          "output_type": "display_data",
          "data": {
            "application/vnd.jupyter.widget-view+json": {
              "model_id": "6cada2b63c9740b4bbd012988e60b8f2",
              "version_minor": 0,
              "version_major": 2
            },
            "text/plain": [
              "HBox(children=(FloatProgress(value=0.0, max=200.0), HTML(value='')))"
            ]
          },
          "metadata": {
            "tags": []
          }
        },
        {
          "output_type": "stream",
          "text": [
            "[EPOCH]: 0, [TRAIN LOSS]: 2.125658, [TRAIN ACCURACY]: 0.481\n",
            "[EPOCH]: 0, [VAL LOSS]: 1.945039, [VAL ACCURACY]: 0.664 \n",
            "\n",
            "[EPOCH]: 50, [TRAIN LOSS]: 0.048917, [TRAIN ACCURACY]: 0.987\n",
            "[EPOCH]: 50, [VAL LOSS]: 0.101506, [VAL ACCURACY]: 0.971 \n",
            "\n",
            "[EPOCH]: 100, [TRAIN LOSS]: 0.010343, [TRAIN ACCURACY]: 0.999\n",
            "[EPOCH]: 100, [VAL LOSS]: 0.097017, [VAL ACCURACY]: 0.973 \n",
            "\n",
            "[EPOCH]: 150, [TRAIN LOSS]: 0.002721, [TRAIN ACCURACY]: 1.000\n",
            "[EPOCH]: 150, [VAL LOSS]: 0.105663, [VAL ACCURACY]: 0.972 \n",
            "\n",
            "\n"
          ],
          "name": "stdout"
        }
      ]
    },
    {
      "cell_type": "code",
      "metadata": {
        "id": "6g7dlBx5ka1D",
        "colab_type": "code",
        "colab": {
          "base_uri": "https://localhost:8080/",
          "height": 207
        },
        "outputId": "1317a700-d7fa-449e-946f-2810b919f57f"
      },
      "source": [
        "print(model)\n",
        "print(f\"Training accuracy of final model : {train_accuracies[-1]}\")\n",
        "print(f\"Validation accuracy of final model: {val_accuracies[-1]}\")\n",
        "print(f\"Training loss of final model: {train_losses[-1]}\")\n",
        "print(f\"Validation loss of final model: {val_losses[-1]}\")"
      ],
      "execution_count": null,
      "outputs": [
        {
          "output_type": "stream",
          "text": [
            "Sequential(\n",
            "  (0): Linear(in_features=784, out_features=128, bias=True)\n",
            "  (1): ReLU()\n",
            "  (2): Linear(in_features=128, out_features=128, bias=True)\n",
            "  (3): ReLU()\n",
            "  (4): Linear(in_features=128, out_features=10, bias=True)\n",
            ")\n",
            "Training accuracy of final model : 1.0\n",
            "Validation accuracy of final model: 0.9732462167739868\n",
            "Training loss of final model: 0.0014489311107187246\n",
            "Validation loss of final model: 0.10517117232084275\n"
          ],
          "name": "stdout"
        }
      ]
    },
    {
      "cell_type": "code",
      "metadata": {
        "id": "thPk3GcIh-sp",
        "colab_type": "code",
        "colab": {
          "base_uri": "https://localhost:8080/",
          "height": 296
        },
        "outputId": "f06d7d40-2b42-45c1-f7bd-dd3588c40db3"
      },
      "source": [
        "import matplotlib.pyplot as plt\n",
        "plt.figure(figsize=(8,4))\n",
        "plt.plot(train_losses, label='train loss')\n",
        "plt.plot(val_losses, label='validation loss')\n",
        "plt.xlabel('Epochs')\n",
        "plt.ylabel('Losses')\n",
        "plt.legend()\n",
        "plt.ylim(top=np.max(train_losses+val_losses))"
      ],
      "execution_count": null,
      "outputs": [
        {
          "output_type": "execute_result",
          "data": {
            "text/plain": [
              "(-0.10476150293193034, 2.1256576119637)"
            ]
          },
          "metadata": {
            "tags": []
          },
          "execution_count": 18
        },
        {
          "output_type": "display_data",
          "data": {
            "image/png": "[encoded data removed]",
            "text/plain": [
              "<Figure size 576x288 with 1 Axes>"
            ]
          },
          "metadata": {
            "tags": [],
            "needs_background": "light"
          }
        }
      ]
    },
    {
      "cell_type": "markdown",
      "metadata": {
        "id": "MYaj0W0K3h1l",
        "colab_type": "text"
      },
      "source": [
        "#### We see that the model is overfitting : Notice the gap between the train and validation losses. \n",
        "\n",
        "#### Use dropout to reduce overfitting "
      ]
    },
    {
      "cell_type": "code",
      "metadata": {
        "id": "ffGCjBxhmgD0",
        "colab_type": "code",
        "colab": {
          "base_uri": "https://localhost:8080/",
          "height": 274,
          "referenced_widgets": [
            "502a367977364708ad73721e46c7886d",
            "93322895515d4ad08ba2123b66589f05",
            "9dd4d1b7dc3048b5a2e886fa9ae103c9",
            "f706945d3b3343c6b6542b38873cae54",
            "b498f0b5da584950a1378b53e9a51a46",
            "d5278c9e4563432b92a768f611620b4e",
            "c2ad1705e92442d087ed9bb5ba3a6985",
            "d0d3ad0ca2b744f0b2fd851231f3cb27"
          ]
        },
        "outputId": "6e93d723-4c15-446b-d70c-03eb9d85949c"
      },
      "source": [
        "learning_rate = 1e-4\n",
        "lambda_l2 = 1e-4\n",
        "\n",
        "# nn package to create our linear model\n",
        "# each Linear module has a weight and bias\n",
        "\n",
        "model = nn.Sequential(\n",
        "    nn.Linear(D, H),\n",
        "    nn.ReLU(),\n",
        "    nn.Dropout(0.5),\n",
        "    nn.Linear(H, H),\n",
        "    nn.ReLU(),\n",
        "    nn.Dropout(0.5),\n",
        "    nn.Linear(H,C),\n",
        ")\n",
        "\n",
        "model.to(device)\n",
        "\n",
        "# nn package also has different loss functions.\n",
        "# we use cross entropy loss for our classification task\n",
        "# criterion = torch.nn.CrossEntropyLoss(weight=class_weights)\n",
        "criterion = torch.nn.CrossEntropyLoss()\n",
        "\n",
        "# we use the optim package to apply\n",
        "# ADAM for our parameter updates\n",
        "optimizer = torch.optim.Adam(model.parameters(), lr=learning_rate, weight_decay=lambda_l2) # built-in L2\n",
        "\n",
        "# Training\n",
        "best_val = 0.0\n",
        "train_losses = []\n",
        "val_losses = []\n",
        "train_accuracies = []\n",
        "\n",
        "\n",
        "# Training\n",
        "for t in tqdm(range(200)):\n",
        "    epoch_t_acc = 0.0 \n",
        "    epoch_t_loss = 0.0\n",
        "    \n",
        "    for i, samples in enumerate(train_loader):\n",
        "        model.train()\n",
        "        # Feed forward to get the logits\n",
        "        y_pred_train = model(samples['x'])\n",
        "\n",
        "        # Compute the loss and accuracy\n",
        "        loss = criterion(y_pred_train, samples['y'])\n",
        "        score, predicted = torch.max(y_pred_train, 1)\n",
        "        train_acc = (samples['y'] == predicted).sum().float() / len(samples['y'])\n",
        "\n",
        "        # zero the gradients before running\n",
        "        # the backward pass.\n",
        "        optimizer.zero_grad()\n",
        "\n",
        "        # Backward pass to compute the gradient\n",
        "        # of loss w.r.t our learnable params. \n",
        "        loss.backward()\n",
        "\n",
        "        # Update params\n",
        "        optimizer.step()\n",
        "        \n",
        "        epoch_t_acc += train_acc\n",
        "        epoch_t_loss += loss.item()\n",
        "    \n",
        "    train_accuracies.append(epoch_t_acc/len(train_loader))\n",
        "    train_losses.append(epoch_t_loss/len(train_loader))\n",
        "    \n",
        "    model.eval()\n",
        "    \n",
        "    v_acc = 0.0\n",
        "    v_loss = 0.0\n",
        "\n",
        "    with torch.no_grad():\n",
        "        for i, samples in enumerate(val_loader):\n",
        "            y_pred_val = model(samples['x'])\n",
        "            score, predicted = torch.max(y_pred_val, 1)\n",
        "            val_loss = criterion(y_pred_val, samples['y'])\n",
        "            val_acc = (samples['y'] == predicted).sum().float() / len(samples['y'])\n",
        "            \n",
        "            v_acc += val_acc\n",
        "            v_loss += val_loss.item()\n",
        "            \n",
        "    val_accuracies.append(v_acc/len(val_loader))\n",
        "    val_losses.append(v_loss/len(val_loader))\n",
        "    \n",
        "    if t%50 == 0:\n",
        "        print(\"[EPOCH]: %i, [TRAIN LOSS]: %.6f, [TRAIN ACCURACY]: %.3f\" % (t, train_losses[-1], train_accuracies[-1]))\n",
        "        print(\"[EPOCH]: %i, [VAL LOSS]: %.6f, [VAL ACCURACY]: %.3f \\n\" % (t, val_losses[-1] ,val_accuracies[-1]))\n",
        "        \n"
      ],
      "execution_count": null,
      "outputs": [
        {
          "output_type": "display_data",
          "data": {
            "application/vnd.jupyter.widget-view+json": {
              "model_id": "502a367977364708ad73721e46c7886d",
              "version_minor": 0,
              "version_major": 2
            },
            "text/plain": [
              "HBox(children=(FloatProgress(value=0.0, max=200.0), HTML(value='')))"
            ]
          },
          "metadata": {
            "tags": []
          }
        },
        {
          "output_type": "stream",
          "text": [
            "[EPOCH]: 0, [TRAIN LOSS]: 2.190960, [TRAIN ACCURACY]: 0.278\n",
            "[EPOCH]: 0, [VAL LOSS]: 2.207098, [VAL ACCURACY]: 0.678 \n",
            "\n",
            "[EPOCH]: 50, [TRAIN LOSS]: 0.050592, [TRAIN ACCURACY]: 0.987\n",
            "[EPOCH]: 50, [VAL LOSS]: 0.103397, [VAL ACCURACY]: 0.969 \n",
            "\n",
            "[EPOCH]: 100, [TRAIN LOSS]: 0.010434, [TRAIN ACCURACY]: 0.999\n",
            "[EPOCH]: 100, [VAL LOSS]: 0.094188, [VAL ACCURACY]: 0.973 \n",
            "\n",
            "[EPOCH]: 150, [TRAIN LOSS]: 0.002712, [TRAIN ACCURACY]: 1.000\n",
            "[EPOCH]: 150, [VAL LOSS]: 0.101062, [VAL ACCURACY]: 0.974 \n",
            "\n",
            "\n"
          ],
          "name": "stdout"
        }
      ]
    },
    {
      "cell_type": "code",
      "metadata": {
        "colab_type": "code",
        "id": "oH6dZpqDnmeA",
        "colab": {
          "base_uri": "https://localhost:8080/",
          "height": 242
        },
        "outputId": "e4e1018f-1e06-45d7-f9b0-ac0841d1e5fa"
      },
      "source": [
        "print(model)\n",
        "print(f\"Training accuracy of final model : {train_accuracies[-1]}\")\n",
        "print(f\"Validation accuracy of final model: {val_accuracies[-1]}\")\n",
        "print(f\"Training loss of final model : {train_losses[-1]}\")\n",
        "print(f\"Validation loss of final model: {val_losses[-1]}\")"
      ],
      "execution_count": null,
      "outputs": [
        {
          "output_type": "stream",
          "text": [
            "Sequential(\n",
            "  (0): Linear(in_features=784, out_features=128, bias=True)\n",
            "  (1): ReLU()\n",
            "  (2): Dropout(p=0.5, inplace=False)\n",
            "  (3): Linear(in_features=128, out_features=128, bias=True)\n",
            "  (4): ReLU()\n",
            "  (5): Dropout(p=0.5, inplace=False)\n",
            "  (6): Linear(in_features=128, out_features=10, bias=True)\n",
            ")\n",
            "Training accuracy of final model : 1.0\n",
            "Validation accuracy of final model: 0.9756417274475098\n",
            "Training loss of final model : 0.0014469146049030277\n",
            "Validation loss of final model: 0.09965743944048881\n"
          ],
          "name": "stdout"
        }
      ]
    },
    {
      "cell_type": "code",
      "metadata": {
        "colab_type": "code",
        "id": "IwE-RD6VnmeD",
        "colab": {
          "base_uri": "https://localhost:8080/",
          "height": 296
        },
        "outputId": "716e1125-f7cc-42db-aa93-255c185f7ea7"
      },
      "source": [
        "import matplotlib.pyplot as plt\n",
        "plt.figure(figsize=(8,4))\n",
        "plt.plot(train_losses, label='train loss')\n",
        "plt.plot(val_losses, label='validation loss')\n",
        "plt.xlabel('Epochs')\n",
        "plt.ylabel('Losses')\n",
        "plt.legend()\n",
        "plt.ylim(top=np.max(train_losses+val_losses))"
      ],
      "execution_count": null,
      "outputs": [
        {
          "output_type": "execute_result",
          "data": {
            "text/plain": [
              "(-0.10883563346844832, 2.2070978760719298)"
            ]
          },
          "metadata": {
            "tags": []
          },
          "execution_count": 21
        },
        {
          "output_type": "display_data",
          "data": {
            "image/png": "[encoded data removed]",
            "text/plain": [
              "<Figure size 576x288 with 1 Axes>"
            ]
          },
          "metadata": {
            "tags": [],
            "needs_background": "light"
          }
        }
      ]
    },
    {
      "cell_type": "markdown",
      "metadata": {
        "id": "94q61u0w3vZW",
        "colab_type": "text"
      },
      "source": [
        "#### Some additional tricks - Add learning rate scheduler "
      ]
    },
    {
      "cell_type": "code",
      "metadata": {
        "id": "nThjeC5FnLjK",
        "colab_type": "code",
        "colab": {}
      },
      "source": [
        "from torch.optim.lr_scheduler import ReduceLROnPlateau, StepLR"
      ],
      "execution_count": null,
      "outputs": []
    },
    {
      "cell_type": "code",
      "metadata": {
        "id": "2Yre7OqicORG",
        "colab_type": "code",
        "colab": {
          "base_uri": "https://localhost:8080/",
          "height": 377,
          "referenced_widgets": [
            "d5bb03d356e5455e81cfe78920a804ab",
            "e4988e8c868e43f6aeb59efa768b5347",
            "6ac3df84ebf84030a986f70500e72dd0",
            "269a1af2314946e2afdedaf2b65c3898",
            "e97e04d8d4b443fcbd8657b9c14d832e",
            "df0cb2d5c11049828f92471ed6fffd17",
            "3b7e9178c8fe4548ad47ee1d2539fc57",
            "b144e1b2d5c74473b3a36ffb3a86a412"
          ]
        },
        "outputId": "55614aec-e2d5-4007-e3b1-29750795e5b9"
      },
      "source": [
        "learning_rate = 1e-4\n",
        "lambda_l2 = 1e-4\n",
        "\n",
        "# nn package to create our linear model\n",
        "# each Linear module has a weight and bias\n",
        "\n",
        "model = nn.Sequential(\n",
        "    nn.Linear(D, H),\n",
        "    nn.ReLU(),\n",
        "    nn.Dropout(0.5),\n",
        "    nn.Linear(H, H),\n",
        "    nn.ReLU(),\n",
        "    nn.Dropout(0.5),\n",
        "    nn.Linear(H,C),\n",
        ")\n",
        "\n",
        "model.to(device)\n",
        "\n",
        "# nn package also has different loss functions.\n",
        "# we use cross entropy loss for our classification task\n",
        "# criterion = torch.nn.CrossEntropyLoss(weight=class_weights)\n",
        "criterion = torch.nn.CrossEntropyLoss()\n",
        "\n",
        "# we use the optim package to apply\n",
        "# ADAM for our parameter updates\n",
        "optimizer = torch.optim.Adam(model.parameters(), lr=learning_rate, weight_decay=lambda_l2) # built-in L2\n",
        "scheduler = StepLR(optimizer, step_size=200, gamma=0.5)\n",
        "# scheduler = ReduceLROnPlateau(optimizer, mode='min', factor=0.1, patience=10)\n",
        "\n",
        "# Training\n",
        "best_val = 0.0\n",
        "train_losses = []\n",
        "val_losses = []\n",
        "train_accuracies = []\n",
        "\n",
        "\n",
        "# Training\n",
        "for t in tqdm(range(300)):\n",
        "    epoch_t_acc = 0.0 \n",
        "    epoch_t_loss = 0.0\n",
        "    \n",
        "    for i, samples in enumerate(train_loader):\n",
        "        model.train()\n",
        "        # Feed forward to get the logits\n",
        "        y_pred_train = model(samples['x'])\n",
        "\n",
        "        # Compute the loss and accuracy\n",
        "        loss = criterion(y_pred_train, samples['y'])\n",
        "        score, predicted = torch.max(y_pred_train, 1)\n",
        "        train_acc = (samples['y'] == predicted).sum().float() / len(samples['y'])\n",
        "\n",
        "        # zero the gradients before running\n",
        "        # the backward pass.\n",
        "        optimizer.zero_grad()\n",
        "\n",
        "        # Backward pass to compute the gradient\n",
        "        # of loss w.r.t our learnable params. \n",
        "        loss.backward()\n",
        "\n",
        "        # Update params\n",
        "        optimizer.step()\n",
        "        \n",
        "        epoch_t_acc += train_acc\n",
        "        epoch_t_loss += loss.item()\n",
        "    \n",
        "    train_accuracies.append(epoch_t_acc/len(train_loader))\n",
        "    train_losses.append(epoch_t_loss/len(train_loader))\n",
        "    \n",
        "    model.eval()\n",
        "    \n",
        "    v_acc = 0.0\n",
        "    v_loss = 0.0\n",
        "    \n",
        "    with torch.no_grad():\n",
        "        for i, samples in enumerate(val_loader):\n",
        "            y_pred_val = model(samples['x'])\n",
        "            score, predicted = torch.max(y_pred_val, 1)\n",
        "            val_loss = criterion(y_pred_val, samples['y'])\n",
        "            val_acc = (samples['y'] == predicted).sum().float() / len(samples['y'])\n",
        "            \n",
        "            v_acc += val_acc\n",
        "            v_loss += val_loss.item()\n",
        "            \n",
        "    val_accuracies.append(v_acc/len(val_loader))\n",
        "    val_losses.append(v_loss/len(val_loader))\n",
        "    \n",
        "    scheduler.step()\n",
        "    # scheduler.step(v_loss/len(val_loader))\n",
        "\n",
        "\n",
        "    if t%50 == 0:\n",
        "        print(\"[EPOCH]: %i, [TRAIN LOSS]: %.6f, [TRAIN ACCURACY]: %.3f\" % (t, train_losses[-1], train_accuracies[-1]))\n",
        "        print(\"[EPOCH]: %i, [VAL LOSS]: %.6f, [VAL ACCURACY]: %.3f \\n\" % (t, val_losses[-1] ,val_accuracies[-1]))\n",
        "        \n"
      ],
      "execution_count": null,
      "outputs": [
        {
          "output_type": "display_data",
          "data": {
            "application/vnd.jupyter.widget-view+json": {
              "model_id": "d5bb03d356e5455e81cfe78920a804ab",
              "version_minor": 0,
              "version_major": 2
            },
            "text/plain": [
              "HBox(children=(FloatProgress(value=0.0, max=300.0), HTML(value='')))"
            ]
          },
          "metadata": {
            "tags": []
          }
        },
        {
          "output_type": "stream",
          "text": [
            "[EPOCH]: 0, [TRAIN LOSS]: 2.197778, [TRAIN ACCURACY]: 0.282\n",
            "[EPOCH]: 0, [VAL LOSS]: 2.405327, [VAL ACCURACY]: 0.580 \n",
            "\n",
            "[EPOCH]: 50, [TRAIN LOSS]: 0.051772, [TRAIN ACCURACY]: 0.986\n",
            "[EPOCH]: 50, [VAL LOSS]: 0.102530, [VAL ACCURACY]: 0.969 \n",
            "\n",
            "[EPOCH]: 100, [TRAIN LOSS]: 0.011036, [TRAIN ACCURACY]: 0.999\n",
            "[EPOCH]: 100, [VAL LOSS]: 0.095970, [VAL ACCURACY]: 0.974 \n",
            "\n",
            "[EPOCH]: 150, [TRAIN LOSS]: 0.002865, [TRAIN ACCURACY]: 1.000\n",
            "[EPOCH]: 150, [VAL LOSS]: 0.103637, [VAL ACCURACY]: 0.975 \n",
            "\n",
            "[EPOCH]: 200, [TRAIN LOSS]: 0.001442, [TRAIN ACCURACY]: 1.000\n",
            "[EPOCH]: 200, [VAL LOSS]: 0.102102, [VAL ACCURACY]: 0.974 \n",
            "\n",
            "[EPOCH]: 250, [TRAIN LOSS]: 0.001281, [TRAIN ACCURACY]: 1.000\n",
            "[EPOCH]: 250, [VAL LOSS]: 0.098349, [VAL ACCURACY]: 0.975 \n",
            "\n",
            "\n"
          ],
          "name": "stdout"
        }
      ]
    },
    {
      "cell_type": "code",
      "metadata": {
        "colab_type": "code",
        "id": "Dex0roZGc-nI",
        "colab": {
          "base_uri": "https://localhost:8080/",
          "height": 242
        },
        "outputId": "f87f5164-f187-4d2a-89fe-99ebd9bc1091"
      },
      "source": [
        "print(model)\n",
        "print(f\"Training accuracy of final model : {train_accuracies[-1]}\")\n",
        "print(f\"Validation accuracy of final model: {val_accuracies[-1]}\")\n",
        "print(f\"Training loss of final model : {train_losses[-1]}\")\n",
        "print(f\"Validation loss of final model: {val_losses[-1]}\")"
      ],
      "execution_count": null,
      "outputs": [
        {
          "output_type": "stream",
          "text": [
            "Sequential(\n",
            "  (0): Linear(in_features=784, out_features=128, bias=True)\n",
            "  (1): ReLU()\n",
            "  (2): Dropout(p=0.5, inplace=False)\n",
            "  (3): Linear(in_features=128, out_features=128, bias=True)\n",
            "  (4): ReLU()\n",
            "  (5): Dropout(p=0.5, inplace=False)\n",
            "  (6): Linear(in_features=128, out_features=10, bias=True)\n",
            ")\n",
            "Training accuracy of final model : 1.0\n",
            "Validation accuracy of final model: 0.9749581217765808\n",
            "Training loss of final model : 0.001173259628632543\n",
            "Validation loss of final model: 0.09571973346173764\n"
          ],
          "name": "stdout"
        }
      ]
    },
    {
      "cell_type": "code",
      "metadata": {
        "colab_type": "code",
        "id": "dzjjVbeic-nM",
        "colab": {
          "base_uri": "https://localhost:8080/",
          "height": 296
        },
        "outputId": "d6b78363-e5db-49d0-a2c9-8e1a4f8fc739"
      },
      "source": [
        "import matplotlib.pyplot as plt\n",
        "plt.figure(figsize=(8,4))\n",
        "plt.plot(train_losses, label='train loss')\n",
        "plt.plot(val_losses, label='validation loss')\n",
        "plt.xlabel('Epochs')\n",
        "plt.ylabel('Losses')\n",
        "plt.legend()\n",
        "plt.ylim(top=np.max(train_losses+val_losses))"
      ],
      "execution_count": null,
      "outputs": [
        {
          "output_type": "execute_result",
          "data": {
            "text/plain": [
              "(-0.11903469481014846, 2.4053273677825926)"
            ]
          },
          "metadata": {
            "tags": []
          },
          "execution_count": 26
        },
        {
          "output_type": "display_data",
          "data": {
            "image/png": "[encoded data removed]",
            "text/plain": [
              "<Figure size 576x288 with 1 Axes>"
            ]
          },
          "metadata": {
            "tags": [],
            "needs_background": "light"
          }
        }
      ]
    },
    {
      "cell_type": "markdown",
      "metadata": {
        "id": "pOWMuK7tlK5r",
        "colab_type": "text"
      },
      "source": [
        "#### Check what the last value of the lr was "
      ]
    },
    {
      "cell_type": "code",
      "metadata": {
        "id": "BzO1RwEGhogO",
        "colab_type": "code",
        "colab": {
          "base_uri": "https://localhost:8080/",
          "height": 35
        },
        "outputId": "224e207c-2edd-432a-9ee3-85cdafb56981"
      },
      "source": [
        "scheduler.get_last_lr()"
      ],
      "execution_count": null,
      "outputs": [
        {
          "output_type": "execute_result",
          "data": {
            "text/plain": [
              "[5e-05]"
            ]
          },
          "metadata": {
            "tags": []
          },
          "execution_count": 27
        }
      ]
    },
    {
      "cell_type": "markdown",
      "metadata": {
        "id": "Pob466WIzgmE",
        "colab_type": "text"
      },
      "source": [
        "#### Early stopping after exceeding max_patience number of epochs without improvement. \n",
        "\n",
        "#### Also an example of best practices to save current model"
      ]
    },
    {
      "cell_type": "code",
      "metadata": {
        "id": "LJu56gHphrnO",
        "colab_type": "code",
        "colab": {
          "base_uri": "https://localhost:8080/",
          "height": 274,
          "referenced_widgets": [
            "8d8265ca48b7444bad64b7fd749bd4a1",
            "65b1b00e93bd4ac9bcd92f8fac7d47e0",
            "0d87f773557d4a8ca9ade2e27f46d6d8",
            "4ff95c37295a45bcbb459f0ccb8f2f7f",
            "021e79d05b4443b4a2b82bd6317b34fe",
            "6e577243020f4aa784b467246cf1f20a",
            "e7394d0c2fe44c06b232548630ed9ab4",
            "76edfd6f2f4e467fb22d34daca00ef8b"
          ]
        },
        "outputId": "8d48d0a5-047c-4f75-e949-73cbb9150862"
      },
      "source": [
        "learning_rate = 1e-4\n",
        "lambda_l2 = 1e-4\n",
        "\n",
        "# nn package to create our linear model\n",
        "# each Linear module has a weight and bias\n",
        "\n",
        "model = nn.Sequential(\n",
        "    nn.Linear(D, H),\n",
        "    nn.ReLU(),\n",
        "    nn.Dropout(0.2),\n",
        "    nn.Linear(H, H),\n",
        "    nn.ReLU(),\n",
        "    nn.Dropout(0.2),\n",
        "    nn.Linear(H,C),\n",
        ")\n",
        "\n",
        "model.to(device)\n",
        "\n",
        "# nn package also has different loss functions.\n",
        "# we use cross entropy loss for our classification task\n",
        "# criterion = torch.nn.CrossEntropyLoss(weight=class_weights)\n",
        "criterion = torch.nn.CrossEntropyLoss()\n",
        "\n",
        "# we use the optim package to apply\n",
        "# ADAM for our parameter updates\n",
        "optimizer = torch.optim.Adam(model.parameters(), lr=learning_rate, weight_decay=lambda_l2) # built-in L2\n",
        "\n",
        "# Training\n",
        "best_val = 0.0\n",
        "train_losses = []\n",
        "val_losses = []\n",
        "train_accuracies = []\n",
        "max_patience = 30\n",
        "patience_counter = 0\n",
        "\n",
        "# Training\n",
        "for t in tqdm(range(200)):\n",
        "    epoch_t_acc = 0.0 \n",
        "    epoch_t_loss = 0.0\n",
        "    \n",
        "    for i, samples in enumerate(train_loader):\n",
        "        model.train()\n",
        "        # Feed forward to get the logits\n",
        "        y_pred_train = model(samples['x'])\n",
        "\n",
        "        # Compute the loss and accuracy\n",
        "        loss = criterion(y_pred_train, samples['y'])\n",
        "        score, predicted = torch.max(y_pred_train, 1)\n",
        "        train_acc = (samples['y'] == predicted).sum().float() / len(samples['y'])\n",
        "\n",
        "        # zero the gradients before running\n",
        "        # the backward pass.\n",
        "        optimizer.zero_grad()\n",
        "\n",
        "        # Backward pass to compute the gradient\n",
        "        # of loss w.r.t our learnable params. \n",
        "        loss.backward()\n",
        "\n",
        "        # Update params\n",
        "        optimizer.step()\n",
        "        \n",
        "        epoch_t_acc += train_acc\n",
        "        epoch_t_loss += loss.item()\n",
        "    \n",
        "    train_accuracies.append(epoch_t_acc/len(train_loader))\n",
        "    train_losses.append(epoch_t_loss/len(train_loader))\n",
        "    \n",
        "    model.eval()\n",
        "    \n",
        "    v_acc = 0.0\n",
        "    v_loss = 0.0\n",
        "    \n",
        "    with torch.no_grad():\n",
        "        for i, samples in enumerate(val_loader):\n",
        "            y_pred_val = model(samples['x'])\n",
        "            score, predicted = torch.max(y_pred_val, 1)\n",
        "            val_loss = criterion(y_pred_val, samples['y'])\n",
        "            val_acc = (samples['y'] == predicted).sum().float() / len(samples['y'])\n",
        "            \n",
        "            v_acc += val_acc\n",
        "            v_loss += val_loss.item()\n",
        "\n",
        "    val_accuracies.append(v_acc/len(val_loader))\n",
        "    val_losses.append(v_loss/len(val_loader))\n",
        "\n",
        "    if val_accuracies[-1] > best_val:\n",
        "      best_val = val_accuracies[-1]\n",
        "      patience_counter = 0\n",
        "      torch.save({\n",
        "                    'model': model.state_dict(),\n",
        "                    'optimizer': optimizer.state_dict(),\n",
        "                    'epoch': t,\n",
        "                }, '/content/drive/My Drive/Colab Notebooks/checkpoint.pth')\n",
        "    else:\n",
        "      patience_counter += 1    \n",
        "      if patience_counter > max_patience:\n",
        "        break\n",
        "\n",
        "\n",
        "    if t%50 == 0:\n",
        "        print(\"[EPOCH]: %i, [TRAIN LOSS]: %.6f, [TRAIN ACCURACY]: %.3f\" % (t, train_losses[-1], train_accuracies[-1]))\n",
        "        print(\"[EPOCH]: %i, [VAL LOSS]: %.6f, [VAL ACCURACY]: %.3f \\n\" % (t, val_losses[-1] ,val_accuracies[-1]))\n",
        "        \n"
      ],
      "execution_count": null,
      "outputs": [
        {
          "output_type": "display_data",
          "data": {
            "application/vnd.jupyter.widget-view+json": {
              "model_id": "8d8265ca48b7444bad64b7fd749bd4a1",
              "version_minor": 0,
              "version_major": 2
            },
            "text/plain": [
              "HBox(children=(FloatProgress(value=0.0, max=200.0), HTML(value='')))"
            ]
          },
          "metadata": {
            "tags": []
          }
        },
        {
          "output_type": "stream",
          "text": [
            "[EPOCH]: 0, [TRAIN LOSS]: 2.130384, [TRAIN ACCURACY]: 0.461\n",
            "[EPOCH]: 0, [VAL LOSS]: 2.110391, [VAL ACCURACY]: 0.696 \n",
            "\n",
            "[EPOCH]: 50, [TRAIN LOSS]: 0.049483, [TRAIN ACCURACY]: 0.987\n",
            "[EPOCH]: 50, [VAL LOSS]: 0.102307, [VAL ACCURACY]: 0.969 \n",
            "\n",
            "[EPOCH]: 100, [TRAIN LOSS]: 0.010181, [TRAIN ACCURACY]: 0.999\n",
            "[EPOCH]: 100, [VAL LOSS]: 0.098155, [VAL ACCURACY]: 0.971 \n",
            "\n",
            "[EPOCH]: 150, [TRAIN LOSS]: 0.002689, [TRAIN ACCURACY]: 1.000\n",
            "[EPOCH]: 150, [VAL LOSS]: 0.105512, [VAL ACCURACY]: 0.972 \n",
            "\n",
            "\n"
          ],
          "name": "stdout"
        }
      ]
    },
    {
      "cell_type": "code",
      "metadata": {
        "colab_type": "code",
        "id": "AIbmzZLLmo7m",
        "colab": {
          "base_uri": "https://localhost:8080/",
          "height": 259
        },
        "outputId": "1cf6165d-a5ab-4b03-e61a-2b573021d875"
      },
      "source": [
        "print(model)\n",
        "print(f\"Training accuracy of final model : {train_accuracies[-1]}\")\n",
        "print(f\"Validation accuracy of final model: {val_accuracies[-1]}\")\n",
        "print(f\"Training loss of final model : {train_losses[-1]}\")\n",
        "print(f\"Validation loss of final model: {val_losses[-1]}\")\n",
        "print(f\"Best Validation accuracy: {best_val}\")"
      ],
      "execution_count": null,
      "outputs": [
        {
          "output_type": "stream",
          "text": [
            "Sequential(\n",
            "  (0): Linear(in_features=784, out_features=128, bias=True)\n",
            "  (1): ReLU()\n",
            "  (2): Dropout(p=0.2, inplace=False)\n",
            "  (3): Linear(in_features=128, out_features=128, bias=True)\n",
            "  (4): ReLU()\n",
            "  (5): Dropout(p=0.2, inplace=False)\n",
            "  (6): Linear(in_features=128, out_features=10, bias=True)\n",
            ")\n",
            "Training accuracy of final model : 1.0\n",
            "Validation accuracy of final model: 0.972359299659729\n",
            "Training loss of final model : 0.0014321747739628262\n",
            "Validation loss of final model: 0.10496664121747017\n",
            "Best Validation accuracy: 0.9730728268623352\n"
          ],
          "name": "stdout"
        }
      ]
    },
    {
      "cell_type": "code",
      "metadata": {
        "colab_type": "code",
        "id": "oZwToN4omo7o",
        "colab": {
          "base_uri": "https://localhost:8080/",
          "height": 296
        },
        "outputId": "b9023d4e-cc32-4574-a8d5-fa30f1a44ad2"
      },
      "source": [
        "import matplotlib.pyplot as plt\n",
        "plt.figure(figsize=(8,4))\n",
        "plt.plot(train_losses, label='train loss')\n",
        "plt.plot(val_losses, label='validation loss')\n",
        "plt.xlabel('Epochs')\n",
        "plt.ylabel('Losses')\n",
        "plt.legend()\n",
        "plt.ylim(top=np.max(train_losses+val_losses))"
      ],
      "execution_count": null,
      "outputs": [
        {
          "output_type": "execute_result",
          "data": {
            "text/plain": [
              "(-0.10501540991767519, 2.130383868606723)"
            ]
          },
          "metadata": {
            "tags": []
          },
          "execution_count": 30
        },
        {
          "output_type": "display_data",
          "data": {
            "image/png": "[encoded data removed]",
            "text/plain": [
              "<Figure size 576x288 with 1 Axes>"
            ]
          },
          "metadata": {
            "tags": [],
            "needs_background": "light"
          }
        }
      ]
    },
    {
      "cell_type": "markdown",
      "metadata": {
        "id": "LhdnGmeO33N5",
        "colab_type": "text"
      },
      "source": [
        "#### Reduce the dimensionality of the data"
      ]
    },
    {
      "cell_type": "code",
      "metadata": {
        "id": "_gGWM4Ptm7R1",
        "colab_type": "code",
        "colab": {}
      },
      "source": [
        "cov = np.dot(X_train.T, X_train) / X_train.shape[0] # get the data covariance matrix"
      ],
      "execution_count": null,
      "outputs": []
    },
    {
      "cell_type": "code",
      "metadata": {
        "id": "YTH1PX5Yzzsj",
        "colab_type": "code",
        "colab": {}
      },
      "source": [
        "U,S,V = np.linalg.svd(cov)"
      ],
      "execution_count": null,
      "outputs": []
    },
    {
      "cell_type": "code",
      "metadata": {
        "id": "PAe9ixVI0WW8",
        "colab_type": "code",
        "colab": {}
      },
      "source": [
        "X_train_red = np.dot(X_train, U[:,:50])\n",
        "X_val_red = np.dot(X_val, U[:,:50])\n",
        "X_test_red = np.dot(X_val, U[:,:50])"
      ],
      "execution_count": null,
      "outputs": []
    },
    {
      "cell_type": "code",
      "metadata": {
        "colab_type": "code",
        "id": "B1OqAEaE0tgw",
        "colab": {
          "base_uri": "https://localhost:8080/",
          "height": 69
        },
        "outputId": "7b5a5273-7291-4550-bfb3-10a0ac228ebf"
      },
      "source": [
        "train_dataset = MNISTDataset(X_train_red, y_train)\n",
        "print(f\"Lenth of train dataset {len(train_dataset)}\")\n",
        "val_dataset = MNISTDataset(X_val_red, y_val)\n",
        "print(f\"Lenth of val dataset {len(val_dataset)}\")\n",
        "test_dataset = MNISTDataset(X_test_red, y_test)\n",
        "print(f\"Lenth of test dataset {len(test_dataset)}\")"
      ],
      "execution_count": null,
      "outputs": [
        {
          "output_type": "stream",
          "text": [
            "Lenth of train dataset 50000\n",
            "Lenth of val dataset 10000\n",
            "Lenth of test dataset 10000\n"
          ],
          "name": "stdout"
        }
      ]
    },
    {
      "cell_type": "markdown",
      "metadata": {
        "colab_type": "text",
        "id": "gzPW9grv0tg0"
      },
      "source": [
        "#### Define the sampler "
      ]
    },
    {
      "cell_type": "code",
      "metadata": {
        "colab_type": "code",
        "id": "IP_geYcK0tg0",
        "colab": {}
      },
      "source": [
        "train_sampler = torch.utils.data.RandomSampler(train_dataset)\n",
        "val_sampler = torch.utils.data.SequentialSampler(val_dataset)\n",
        "test_sampler = torch.utils.data.SequentialSampler(test_dataset)"
      ],
      "execution_count": null,
      "outputs": []
    },
    {
      "cell_type": "markdown",
      "metadata": {
        "colab_type": "text",
        "id": "Gksvu09E0tg2"
      },
      "source": [
        "#### Define the data loader "
      ]
    },
    {
      "cell_type": "code",
      "metadata": {
        "colab_type": "code",
        "id": "X4mKHsUJ0tg3",
        "colab": {}
      },
      "source": [
        "bs = 1024 # Define the batch size\n",
        "\n",
        "train_loader = DataLoader(train_dataset, batch_size=bs, sampler=train_sampler, drop_last=False)\n",
        "val_loader = DataLoader(val_dataset, batch_size=bs, sampler=val_sampler, drop_last=False)\n",
        "test_loader = DataLoader(test_dataset, batch_size=bs, sampler=test_sampler, drop_last=False)"
      ],
      "execution_count": null,
      "outputs": []
    },
    {
      "cell_type": "code",
      "metadata": {
        "id": "JvbuMtEK0yBK",
        "colab_type": "code",
        "colab": {
          "base_uri": "https://localhost:8080/",
          "height": 360,
          "referenced_widgets": [
            "157d0f97d32348ae8d2ae37ef5d7f982",
            "31c9561af0e14ebc9400529b4d30418a",
            "11a13cc14b7c4ec7b5afb42ffe7a0b28",
            "a233d934314d45409c5549d5f03007e0",
            "55979671721c449e84a25bd236646bdd",
            "6a1450fe22a34922a98a13cabc398d13",
            "67c83bc14bd440698f8c27e9217730e6",
            "98eecb59dc21458597cee1adaed6e698"
          ]
        },
        "outputId": "b7d9cdd9-8961-487e-dde8-3514ce181d02"
      },
      "source": [
        "learning_rate = 1e-4\n",
        "lambda_l2 = 1e-4\n",
        "\n",
        "# Only 50 dimensions\n",
        "D = 50\n",
        "# Half the number of neurons\n",
        "H = 64\n",
        "\n",
        "# nn package to create our linear model\n",
        "# each Linear module has a weight and bias\n",
        "\n",
        "model = nn.Sequential(\n",
        "    nn.Linear(D, H),\n",
        "    nn.ReLU(),\n",
        "    nn.Dropout(0.5),\n",
        "    nn.Linear(H, H),\n",
        "    nn.ReLU(),\n",
        "    nn.Dropout(0.5),\n",
        "    nn.Linear(H,C),\n",
        ")\n",
        "\n",
        "model.to(device)\n",
        "\n",
        "# nn package also has different loss functions.\n",
        "# we use cross entropy loss for our classification task\n",
        "# criterion = torch.nn.CrossEntropyLoss(weight=class_weights)\n",
        "criterion = torch.nn.CrossEntropyLoss()\n",
        "\n",
        "# we use the optim package to apply\n",
        "# ADAM for our parameter updates\n",
        "optimizer = torch.optim.Adam(model.parameters(), lr=learning_rate, weight_decay=lambda_l2) # built-in L2\n",
        "\n",
        "# Training\n",
        "best_val = 0.0\n",
        "train_losses = []\n",
        "val_losses = []\n",
        "train_accuracies = []\n",
        "max_patience = 30\n",
        "patience_counter = 0\n",
        "\n",
        "# Training\n",
        "for t in tqdm(range(400)):\n",
        "    epoch_t_acc = 0.0 \n",
        "    epoch_t_loss = 0.0\n",
        "    \n",
        "    for i, samples in enumerate(train_loader):\n",
        "        model.train()\n",
        "        \n",
        "        # Feed forward to get the logits\n",
        "        y_pred_train = model(samples['x'])\n",
        "\n",
        "        # Compute the loss and accuracy\n",
        "        loss = criterion(y_pred_train, samples['y'])\n",
        "        score, predicted = torch.max(y_pred_train, 1)\n",
        "        train_acc = (samples['y'] == predicted).sum().float() / len(samples['y'])\n",
        "\n",
        "        # zero the gradients before running\n",
        "        # the backward pass.\n",
        "        optimizer.zero_grad()\n",
        "\n",
        "        # Backward pass to compute the gradient\n",
        "        # of loss w.r.t our learnable params. \n",
        "        loss.backward()\n",
        "\n",
        "        # Update params\n",
        "        optimizer.step()\n",
        "        \n",
        "        epoch_t_acc += train_acc\n",
        "        epoch_t_loss += loss.item()\n",
        "    \n",
        "    train_accuracies.append(epoch_t_acc/len(train_loader))\n",
        "    train_losses.append(epoch_t_loss/len(train_loader))\n",
        "    \n",
        "    model.eval()\n",
        "    \n",
        "    v_acc = 0.0\n",
        "    v_loss = 0.0\n",
        "    \n",
        "    with torch.no_grad():\n",
        "        for i, samples in enumerate(val_loader):\n",
        "            y_pred_val = model(samples['x'])\n",
        "            score, predicted = torch.max(y_pred_val, 1)\n",
        "            val_loss = criterion(y_pred_val, samples['y'])\n",
        "            val_acc = (samples['y'] == predicted).sum().float() / len(samples['y'])\n",
        "            \n",
        "            v_acc += val_acc\n",
        "            v_loss += val_loss.item()\n",
        "\n",
        "    val_accuracies.append(v_acc/len(val_loader))\n",
        "    val_losses.append(v_loss/len(val_loader))\n",
        "\n",
        "    if val_accuracies[-1] > best_val:\n",
        "      best_val = val_accuracies[-1]\n",
        "      patience_counter = 0\n",
        "    else:\n",
        "      patience_counter += 1    \n",
        "      if patience_counter > max_patience:\n",
        "        break\n",
        "\n",
        "\n",
        "    if t%50 == 0:\n",
        "        print(\"[EPOCH]: %i, [TRAIN LOSS]: %.6f, [TRAIN ACCURACY]: %.3f\" % (t, train_losses[-1], train_accuracies[-1]))\n",
        "        print(\"[EPOCH]: %i, [VAL LOSS]: %.6f, [VAL ACCURACY]: %.3f \\n\" % (t, val_losses[-1] ,val_accuracies[-1]))\n",
        "        \n"
      ],
      "execution_count": null,
      "outputs": [
        {
          "output_type": "display_data",
          "data": {
            "application/vnd.jupyter.widget-view+json": {
              "model_id": "157d0f97d32348ae8d2ae37ef5d7f982",
              "version_minor": 0,
              "version_major": 2
            },
            "text/plain": [
              "HBox(children=(FloatProgress(value=0.0, max=400.0), HTML(value='')))"
            ]
          },
          "metadata": {
            "tags": []
          }
        },
        {
          "output_type": "stream",
          "text": [
            "[EPOCH]: 0, [TRAIN LOSS]: 2.416270, [TRAIN ACCURACY]: 0.109\n",
            "[EPOCH]: 0, [VAL LOSS]: 2.264662, [VAL ACCURACY]: 0.180 \n",
            "\n",
            "[EPOCH]: 50, [TRAIN LOSS]: 0.189484, [TRAIN ACCURACY]: 0.943\n",
            "[EPOCH]: 50, [VAL LOSS]: 0.191549, [VAL ACCURACY]: 0.941 \n",
            "\n",
            "[EPOCH]: 100, [TRAIN LOSS]: 0.114711, [TRAIN ACCURACY]: 0.965\n",
            "[EPOCH]: 100, [VAL LOSS]: 0.133848, [VAL ACCURACY]: 0.960 \n",
            "\n",
            "[EPOCH]: 150, [TRAIN LOSS]: 0.084594, [TRAIN ACCURACY]: 0.974\n",
            "[EPOCH]: 150, [VAL LOSS]: 0.114353, [VAL ACCURACY]: 0.965 \n",
            "\n",
            "[EPOCH]: 200, [TRAIN LOSS]: 0.067504, [TRAIN ACCURACY]: 0.980\n",
            "[EPOCH]: 200, [VAL LOSS]: 0.104411, [VAL ACCURACY]: 0.968 \n",
            "\n",
            "[EPOCH]: 250, [TRAIN LOSS]: 0.056119, [TRAIN ACCURACY]: 0.983\n",
            "[EPOCH]: 250, [VAL LOSS]: 0.101006, [VAL ACCURACY]: 0.969 \n",
            "\n"
          ],
          "name": "stdout"
        }
      ]
    },
    {
      "cell_type": "code",
      "metadata": {
        "colab_type": "code",
        "id": "roZCcl4Z1cvL",
        "colab": {
          "base_uri": "https://localhost:8080/",
          "height": 259
        },
        "outputId": "dffa792e-bb93-4d94-8a29-47970a3f6d84"
      },
      "source": [
        "print(model)\n",
        "print(f\"Training accuracy of final model : {train_accuracies[-1]}\")\n",
        "print(f\"Validation accuracy of final model: {val_accuracies[-1]}\")\n",
        "print(f\"Training loss of final model : {train_losses[-1]}\")\n",
        "print(f\"Validation loss of final model: {val_losses[-1]}\")\n",
        "print(f\"Best Validation accuracy: {best_val}\")"
      ],
      "execution_count": null,
      "outputs": [
        {
          "output_type": "stream",
          "text": [
            "Sequential(\n",
            "  (0): Linear(in_features=50, out_features=64, bias=True)\n",
            "  (1): ReLU()\n",
            "  (2): Dropout(p=0.5, inplace=False)\n",
            "  (3): Linear(in_features=64, out_features=64, bias=True)\n",
            "  (4): ReLU()\n",
            "  (5): Dropout(p=0.5, inplace=False)\n",
            "  (6): Linear(in_features=64, out_features=10, bias=True)\n",
            ")\n",
            "Training accuracy of final model : 0.9845960736274719\n",
            "Validation accuracy of final model: 0.9689652323722839\n",
            "Training loss of final model : 0.05221077769386525\n",
            "Validation loss of final model: 0.10010193139314652\n",
            "Best Validation accuracy: 0.969640851020813\n"
          ],
          "name": "stdout"
        }
      ]
    },
    {
      "cell_type": "code",
      "metadata": {
        "colab_type": "code",
        "id": "u06A778H1cvQ",
        "colab": {
          "base_uri": "https://localhost:8080/",
          "height": 296
        },
        "outputId": "a13ddb34-b920-4761-ff99-23bee16adc47"
      },
      "source": [
        "import matplotlib.pyplot as plt\n",
        "plt.figure(figsize=(8,4))\n",
        "plt.plot(train_losses, label='train loss')\n",
        "plt.plot(val_losses, label='validation loss')\n",
        "plt.xlabel('Epochs')\n",
        "plt.ylabel('Losses')\n",
        "plt.legend()\n",
        "plt.ylim(top=np.max(train_losses+val_losses))"
      ],
      "execution_count": null,
      "outputs": [
        {
          "output_type": "execute_result",
          "data": {
            "text/plain": [
              "(-0.06599218819518479, 2.416270095474866)"
            ]
          },
          "metadata": {
            "tags": []
          },
          "execution_count": 39
        },
        {
          "output_type": "display_data",
          "data": {
            "image/png": "[encoded data removed]",
            "text/plain": [
              "<Figure size 576x288 with 1 Axes>"
            ]
          },
          "metadata": {
            "tags": [],
            "needs_background": "light"
          }
        }
      ]
    },
    {
      "cell_type": "markdown",
      "metadata": {
        "id": "NLYMKEUw6da-",
        "colab_type": "text"
      },
      "source": [
        "#### Get results on test set in the very end"
      ]
    },
    {
      "cell_type": "code",
      "metadata": {
        "id": "HJrNrER-1eOq",
        "colab_type": "code",
        "colab": {}
      },
      "source": [
        "model.eval()\n",
        "with torch.no_grad():\n",
        "  t_acc = 0\n",
        "  t_loss = 0\n",
        "  for i, samples in enumerate(test_loader):\n",
        "            y_pred_test = model(samples['x'])\n",
        "            score, predicted = torch.max(y_pred_test, 1)\n",
        "            test_loss = criterion(y_pred_test, samples['y'])\n",
        "            test_acc = (samples['y'] == predicted).sum().float() / len(samples['y'])\n",
        "            \n",
        "            t_acc += test_acc\n",
        "            t_loss += test_loss.item()\n",
        "\n",
        "    val_accuracies.append(t_acc/len(test_loader))\n",
        "    val_losses.append(t_loss/len(test_loader))"
      ],
      "execution_count": null,
      "outputs": []
    }
  ]
}